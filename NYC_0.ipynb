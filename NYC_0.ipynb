{
 "cells": [
  {
   "cell_type": "code",
   "execution_count": 0,
   "metadata": {
    "colab": {},
    "colab_type": "code",
    "id": "o5EG_bEknS-Y"
   },
   "outputs": [],
   "source": [
    "# Install some packages\n",
    "!pip install dask[complete] toolz cloudpickle\n",
    "!pip install -U feather-format\n",
    "!pip install pyarrow==0.09.0\n",
    "!pip install --upgrade pandas\n",
    "!pip install lightgbm"
   ]
  },
  {
   "cell_type": "code",
   "execution_count": 2,
   "metadata": {
    "colab": {},
    "colab_type": "code",
    "id": "ToQOjZFnnLVN"
   },
   "outputs": [],
   "source": [
    "import pandas as pd \n",
    "from tqdm import tqdm\n",
    "import numpy as np \n",
    "import seaborn as sns\n",
    "import matplotlib.pyplot as plt\n",
    "from sklearn.model_selection import train_test_split\n",
    "from sklearn.preprocessing import MinMaxScaler\n",
    "from sklearn.model_selection import GridSearchCV\n",
    "from sklearn.metrics import mean_squared_error\n",
    "from sklearn.linear_model import LinearRegression\n",
    "from sklearn.linear_model import Ridge\n",
    "from sklearn.linear_model import Lasso\n",
    "from sklearn.tree import DecisionTreeRegressor\n",
    "from sklearn.ensemble import RandomForestRegressor\n",
    "import xgboost as xgb\n",
    "import lightgbm as lgbm\n",
    "%matplotlib inline\n",
    "plt.style.use('ggplot')\n",
    "\n",
    "TRAIN_PATH = 'drive/My Drive/train.csv'\n",
    "TEST_PATH = 'drive/My Drive/test.csv'"
   ]
  },
  {
   "cell_type": "markdown",
   "metadata": {
    "colab_type": "text",
    "id": "ETgvwrqw1Byf"
   },
   "source": [
    "# 1. Data cleaning on a subset 1.000.000 rows"
   ]
  },
  {
   "cell_type": "code",
   "execution_count": 0,
   "metadata": {
    "colab": {},
    "colab_type": "code",
    "id": "j7Hudd6C-E2N"
   },
   "outputs": [],
   "source": [
    "train = pd.read_csv(TRAIN_PATH, nrows = 1000000)"
   ]
  },
  {
   "cell_type": "code",
   "execution_count": 0,
   "metadata": {
    "colab": {
     "base_uri": "https://localhost:8080/",
     "height": 309
    },
    "colab_type": "code",
    "id": "-1lSy0P42xYF",
    "outputId": "97c17e1e-86aa-417b-f101-67e64a82407c"
   },
   "outputs": [
    {
     "data": {
      "text/html": [
       "<div>\n",
       "<style scoped>\n",
       "    .dataframe tbody tr th:only-of-type {\n",
       "        vertical-align: middle;\n",
       "    }\n",
       "\n",
       "    .dataframe tbody tr th {\n",
       "        vertical-align: top;\n",
       "    }\n",
       "\n",
       "    .dataframe thead th {\n",
       "        text-align: right;\n",
       "    }\n",
       "</style>\n",
       "<table border=\"1\" class=\"dataframe\">\n",
       "  <thead>\n",
       "    <tr style=\"text-align: right;\">\n",
       "      <th></th>\n",
       "      <th>key</th>\n",
       "      <th>fare_amount</th>\n",
       "      <th>pickup_datetime</th>\n",
       "      <th>pickup_longitude</th>\n",
       "      <th>pickup_latitude</th>\n",
       "      <th>dropoff_longitude</th>\n",
       "      <th>dropoff_latitude</th>\n",
       "      <th>passenger_count</th>\n",
       "    </tr>\n",
       "  </thead>\n",
       "  <tbody>\n",
       "    <tr>\n",
       "      <th>0</th>\n",
       "      <td>2009-06-15 17:26:21.0000001</td>\n",
       "      <td>4.5</td>\n",
       "      <td>2009-06-15 17:26:21 UTC</td>\n",
       "      <td>-73.844311</td>\n",
       "      <td>40.721319</td>\n",
       "      <td>-73.841610</td>\n",
       "      <td>40.712278</td>\n",
       "      <td>1</td>\n",
       "    </tr>\n",
       "    <tr>\n",
       "      <th>1</th>\n",
       "      <td>2010-01-05 16:52:16.0000002</td>\n",
       "      <td>16.9</td>\n",
       "      <td>2010-01-05 16:52:16 UTC</td>\n",
       "      <td>-74.016048</td>\n",
       "      <td>40.711303</td>\n",
       "      <td>-73.979268</td>\n",
       "      <td>40.782004</td>\n",
       "      <td>1</td>\n",
       "    </tr>\n",
       "    <tr>\n",
       "      <th>2</th>\n",
       "      <td>2011-08-18 00:35:00.00000049</td>\n",
       "      <td>5.7</td>\n",
       "      <td>2011-08-18 00:35:00 UTC</td>\n",
       "      <td>-73.982738</td>\n",
       "      <td>40.761270</td>\n",
       "      <td>-73.991242</td>\n",
       "      <td>40.750562</td>\n",
       "      <td>2</td>\n",
       "    </tr>\n",
       "    <tr>\n",
       "      <th>3</th>\n",
       "      <td>2012-04-21 04:30:42.0000001</td>\n",
       "      <td>7.7</td>\n",
       "      <td>2012-04-21 04:30:42 UTC</td>\n",
       "      <td>-73.987130</td>\n",
       "      <td>40.733143</td>\n",
       "      <td>-73.991567</td>\n",
       "      <td>40.758092</td>\n",
       "      <td>1</td>\n",
       "    </tr>\n",
       "    <tr>\n",
       "      <th>4</th>\n",
       "      <td>2010-03-09 07:51:00.000000135</td>\n",
       "      <td>5.3</td>\n",
       "      <td>2010-03-09 07:51:00 UTC</td>\n",
       "      <td>-73.968095</td>\n",
       "      <td>40.768008</td>\n",
       "      <td>-73.956655</td>\n",
       "      <td>40.783762</td>\n",
       "      <td>1</td>\n",
       "    </tr>\n",
       "  </tbody>\n",
       "</table>\n",
       "</div>"
      ],
      "text/plain": [
       "                             key       ...         passenger_count\n",
       "0    2009-06-15 17:26:21.0000001       ...                       1\n",
       "1    2010-01-05 16:52:16.0000002       ...                       1\n",
       "2   2011-08-18 00:35:00.00000049       ...                       2\n",
       "3    2012-04-21 04:30:42.0000001       ...                       1\n",
       "4  2010-03-09 07:51:00.000000135       ...                       1\n",
       "\n",
       "[5 rows x 8 columns]"
      ]
     },
     "execution_count": 45,
     "metadata": {
      "tags": []
     },
     "output_type": "execute_result"
    }
   ],
   "source": [
    "train.head()"
   ]
  },
  {
   "cell_type": "code",
   "execution_count": 0,
   "metadata": {
    "colab": {
     "base_uri": "https://localhost:8080/",
     "height": 297
    },
    "colab_type": "code",
    "id": "zNByxuYDAMf6",
    "outputId": "6bc132a3-3151-4034-bf6d-a04c210f82f9"
   },
   "outputs": [
    {
     "data": {
      "text/html": [
       "<div>\n",
       "<style scoped>\n",
       "    .dataframe tbody tr th:only-of-type {\n",
       "        vertical-align: middle;\n",
       "    }\n",
       "\n",
       "    .dataframe tbody tr th {\n",
       "        vertical-align: top;\n",
       "    }\n",
       "\n",
       "    .dataframe thead th {\n",
       "        text-align: right;\n",
       "    }\n",
       "</style>\n",
       "<table border=\"1\" class=\"dataframe\">\n",
       "  <thead>\n",
       "    <tr style=\"text-align: right;\">\n",
       "      <th></th>\n",
       "      <th>fare_amount</th>\n",
       "      <th>pickup_longitude</th>\n",
       "      <th>pickup_latitude</th>\n",
       "      <th>dropoff_longitude</th>\n",
       "      <th>dropoff_latitude</th>\n",
       "      <th>passenger_count</th>\n",
       "    </tr>\n",
       "  </thead>\n",
       "  <tbody>\n",
       "    <tr>\n",
       "      <th>count</th>\n",
       "      <td>1000000.000000</td>\n",
       "      <td>1000000.000000</td>\n",
       "      <td>1000000.000000</td>\n",
       "      <td>999990.000000</td>\n",
       "      <td>999990.000000</td>\n",
       "      <td>1000000.000000</td>\n",
       "    </tr>\n",
       "    <tr>\n",
       "      <th>mean</th>\n",
       "      <td>11.348079</td>\n",
       "      <td>-72.526640</td>\n",
       "      <td>39.929008</td>\n",
       "      <td>-72.527860</td>\n",
       "      <td>39.919954</td>\n",
       "      <td>1.684924</td>\n",
       "    </tr>\n",
       "    <tr>\n",
       "      <th>std</th>\n",
       "      <td>9.822090</td>\n",
       "      <td>12.057937</td>\n",
       "      <td>7.626154</td>\n",
       "      <td>11.324494</td>\n",
       "      <td>8.201418</td>\n",
       "      <td>1.323911</td>\n",
       "    </tr>\n",
       "    <tr>\n",
       "      <th>min</th>\n",
       "      <td>-44.900000</td>\n",
       "      <td>-3377.680935</td>\n",
       "      <td>-3116.285383</td>\n",
       "      <td>-3383.296608</td>\n",
       "      <td>-3114.338567</td>\n",
       "      <td>0.000000</td>\n",
       "    </tr>\n",
       "    <tr>\n",
       "      <th>25%</th>\n",
       "      <td>6.000000</td>\n",
       "      <td>-73.992060</td>\n",
       "      <td>40.734965</td>\n",
       "      <td>-73.991385</td>\n",
       "      <td>40.734046</td>\n",
       "      <td>1.000000</td>\n",
       "    </tr>\n",
       "    <tr>\n",
       "      <th>50%</th>\n",
       "      <td>8.500000</td>\n",
       "      <td>-73.981792</td>\n",
       "      <td>40.752695</td>\n",
       "      <td>-73.980135</td>\n",
       "      <td>40.753166</td>\n",
       "      <td>1.000000</td>\n",
       "    </tr>\n",
       "    <tr>\n",
       "      <th>75%</th>\n",
       "      <td>12.500000</td>\n",
       "      <td>-73.967094</td>\n",
       "      <td>40.767154</td>\n",
       "      <td>-73.963654</td>\n",
       "      <td>40.768129</td>\n",
       "      <td>2.000000</td>\n",
       "    </tr>\n",
       "    <tr>\n",
       "      <th>max</th>\n",
       "      <td>500.000000</td>\n",
       "      <td>2522.271325</td>\n",
       "      <td>2621.628430</td>\n",
       "      <td>45.581619</td>\n",
       "      <td>1651.553433</td>\n",
       "      <td>208.000000</td>\n",
       "    </tr>\n",
       "  </tbody>\n",
       "</table>\n",
       "</div>"
      ],
      "text/plain": [
       "          fare_amount       ...         passenger_count\n",
       "count  1000000.000000       ...          1000000.000000\n",
       "mean        11.348079       ...                1.684924\n",
       "std          9.822090       ...                1.323911\n",
       "min        -44.900000       ...                0.000000\n",
       "25%          6.000000       ...                1.000000\n",
       "50%          8.500000       ...                1.000000\n",
       "75%         12.500000       ...                2.000000\n",
       "max        500.000000       ...              208.000000\n",
       "\n",
       "[8 rows x 6 columns]"
      ]
     },
     "execution_count": 46,
     "metadata": {
      "tags": []
     },
     "output_type": "execute_result"
    }
   ],
   "source": [
    "# Some statistics descriptive:\n",
    "train.describe()"
   ]
  },
  {
   "cell_type": "markdown",
   "metadata": {
    "colab_type": "text",
    "id": "CqOUjy-d38g3"
   },
   "source": [
    "**Lưu ý:** \n",
    "- `fare_amount`: negative value and max = 500$.\n",
    "- `longitude` and `latitude`: big diffenrence between max, min and quantiles.\n",
    "- `passenger_count`: max = 208 peoples???"
   ]
  },
  {
   "cell_type": "code",
   "execution_count": 0,
   "metadata": {
    "colab": {
     "base_uri": "https://localhost:8080/",
     "height": 170
    },
    "colab_type": "code",
    "id": "MAIduFmPADE1",
    "outputId": "197c0708-467e-420e-8939-1e3f9c3636d0"
   },
   "outputs": [
    {
     "data": {
      "text/plain": [
       "key                   0\n",
       "fare_amount           0\n",
       "pickup_datetime       0\n",
       "pickup_longitude      0\n",
       "pickup_latitude       0\n",
       "dropoff_longitude    10\n",
       "dropoff_latitude     10\n",
       "passenger_count       0\n",
       "dtype: int64"
      ]
     },
     "execution_count": 47,
     "metadata": {
      "tags": []
     },
     "output_type": "execute_result"
    }
   ],
   "source": [
    "# Check missing values\n",
    "train.isnull().sum()"
   ]
  },
  {
   "cell_type": "code",
   "execution_count": 0,
   "metadata": {
    "colab": {},
    "colab_type": "code",
    "id": "UKUzHfYw3mL1"
   },
   "outputs": [],
   "source": [
    "# Missing values not much, simply remove it\n",
    "train = train.drop(train.loc[train.isnull().any(1)].index, axis = 0)"
   ]
  },
  {
   "cell_type": "code",
   "execution_count": 0,
   "metadata": {
    "colab": {
     "base_uri": "https://localhost:8080/",
     "height": 34
    },
    "colab_type": "code",
    "id": "6396Ie8w3mFE",
    "outputId": "0df1f642-9f9e-41ef-fb23-d83ec4e84c03"
   },
   "outputs": [
    {
     "data": {
      "text/plain": [
       "38"
      ]
     },
     "execution_count": 49,
     "metadata": {
      "tags": []
     },
     "output_type": "execute_result"
    }
   ],
   "source": [
    "# Check `fare_amount` how many negative values?\n",
    "len(train.loc[train['fare_amount'] < 0])"
   ]
  },
  {
   "cell_type": "code",
   "execution_count": 0,
   "metadata": {
    "colab": {},
    "colab_type": "code",
    "id": "9b264WdB-y8p"
   },
   "outputs": [],
   "source": [
    "# obs `fare_amount` not much, simply remove it:\n",
    "train = train.drop(train.loc[train['fare_amount'] < 0].index, axis = 0)"
   ]
  },
  {
   "cell_type": "code",
   "execution_count": 0,
   "metadata": {
    "colab": {
     "base_uri": "https://localhost:8080/",
     "height": 117
    },
    "colab_type": "code",
    "id": "cDyv7f_D-y44",
    "outputId": "ab0d0e4b-fdbf-4a6f-9005-4ddf6a3339ae"
   },
   "outputs": [
    {
     "data": {
      "text/html": [
       "<div>\n",
       "<style scoped>\n",
       "    .dataframe tbody tr th:only-of-type {\n",
       "        vertical-align: middle;\n",
       "    }\n",
       "\n",
       "    .dataframe tbody tr th {\n",
       "        vertical-align: top;\n",
       "    }\n",
       "\n",
       "    .dataframe thead th {\n",
       "        text-align: right;\n",
       "    }\n",
       "</style>\n",
       "<table border=\"1\" class=\"dataframe\">\n",
       "  <thead>\n",
       "    <tr style=\"text-align: right;\">\n",
       "      <th></th>\n",
       "      <th>key</th>\n",
       "      <th>fare_amount</th>\n",
       "      <th>pickup_datetime</th>\n",
       "      <th>pickup_longitude</th>\n",
       "      <th>pickup_latitude</th>\n",
       "      <th>dropoff_longitude</th>\n",
       "      <th>dropoff_latitude</th>\n",
       "      <th>passenger_count</th>\n",
       "    </tr>\n",
       "  </thead>\n",
       "  <tbody>\n",
       "    <tr>\n",
       "      <th>929022</th>\n",
       "      <td>2009-07-30 11:54:00.000000193</td>\n",
       "      <td>3.3</td>\n",
       "      <td>2009-07-30 11:54:00 UTC</td>\n",
       "      <td>0.0</td>\n",
       "      <td>0.0</td>\n",
       "      <td>0.0</td>\n",
       "      <td>0.0</td>\n",
       "      <td>208</td>\n",
       "    </tr>\n",
       "  </tbody>\n",
       "</table>\n",
       "</div>"
      ],
      "text/plain": [
       "                                  key       ...         passenger_count\n",
       "929022  2009-07-30 11:54:00.000000193       ...                     208\n",
       "\n",
       "[1 rows x 8 columns]"
      ]
     },
     "execution_count": 51,
     "metadata": {
      "tags": []
     },
     "output_type": "execute_result"
    }
   ],
   "source": [
    "# Normally 7 passengers in a taxi, then check how many cases:\n",
    "train.loc[train['passenger_count'] > 7]"
   ]
  },
  {
   "cell_type": "code",
   "execution_count": 0,
   "metadata": {
    "colab": {},
    "colab_type": "code",
    "id": "ThAysggS-y2M"
   },
   "outputs": [],
   "source": [
    "# we'll remove them:\n",
    "train = train.drop(train.loc[train['passenger_count'] > 7].index, axis = 0)"
   ]
  },
  {
   "cell_type": "code",
   "execution_count": 0,
   "metadata": {
    "colab": {
     "base_uri": "https://localhost:8080/",
     "height": 34
    },
    "colab_type": "code",
    "id": "5d28MtTHBLil",
    "outputId": "0ed85e88-73f5-4903-a354-feda1e8f1435"
   },
   "outputs": [
    {
     "data": {
      "text/plain": [
       "12"
      ]
     },
     "execution_count": 53,
     "metadata": {
      "tags": []
     },
     "output_type": "execute_result"
    }
   ],
   "source": [
    "# Check information: New York City latitude between -90 and 90, longitude from -180 to 180 \n",
    "train.loc[(train['pickup_latitude'] < -90) | (train['pickup_latitude'] > 90)].shape[0]"
   ]
  },
  {
   "cell_type": "code",
   "execution_count": 0,
   "metadata": {
    "colab": {
     "base_uri": "https://localhost:8080/",
     "height": 34
    },
    "colab_type": "code",
    "id": "N5gNisOI_z_p",
    "outputId": "ee33207f-15ff-4698-d19b-6007f7a8ec38"
   },
   "outputs": [
    {
     "data": {
      "text/plain": [
       "12"
      ]
     },
     "execution_count": 54,
     "metadata": {
      "tags": []
     },
     "output_type": "execute_result"
    }
   ],
   "source": [
    "train.loc[(train['dropoff_latitude'] < -90) | (train['dropoff_latitude'] > 90)].shape[0]"
   ]
  },
  {
   "cell_type": "code",
   "execution_count": 0,
   "metadata": {
    "colab": {
     "base_uri": "https://localhost:8080/",
     "height": 34
    },
    "colab_type": "code",
    "id": "vAHkc2JW_0N9",
    "outputId": "88ee4750-759f-44f9-cfd4-a7a7a512d4a1"
   },
   "outputs": [
    {
     "data": {
      "text/plain": [
       "15"
      ]
     },
     "execution_count": 55,
     "metadata": {
      "tags": []
     },
     "output_type": "execute_result"
    }
   ],
   "source": [
    "train.loc[(train['pickup_longitude'] < -180) | (train['pickup_longitude'] > 180)].shape[0]"
   ]
  },
  {
   "cell_type": "code",
   "execution_count": 0,
   "metadata": {
    "colab": {
     "base_uri": "https://localhost:8080/",
     "height": 34
    },
    "colab_type": "code",
    "id": "98Wm4BVf_0Zl",
    "outputId": "ce15b575-8287-445a-cc24-5e0058b92156"
   },
   "outputs": [
    {
     "data": {
      "text/plain": [
       "13"
      ]
     },
     "execution_count": 56,
     "metadata": {
      "tags": []
     },
     "output_type": "execute_result"
    }
   ],
   "source": [
    "train.loc[(train['dropoff_longitude'] < -180) | (train['dropoff_longitude'] > 180)].shape[0]"
   ]
  },
  {
   "cell_type": "code",
   "execution_count": 0,
   "metadata": {
    "colab": {},
    "colab_type": "code",
    "id": "nG0i2LCK8khF"
   },
   "outputs": [],
   "source": [
    "# We need to remove them:\n",
    "train = train.drop(train.loc[(train['pickup_latitude'] < -90) | (train['pickup_latitude'] > 90)].index, axis = 0)\n",
    "train = train.drop(train.loc[(train['dropoff_latitude'] < -90) | (train['dropoff_latitude'] > 90)].index, axis = 0)\n",
    "train = train.drop(train.loc[(train['pickup_longitude'] < -180) | (train['pickup_longitude'] > 180)].index, axis = 0)\n",
    "train = train.drop(train.loc[(train['dropoff_longitude'] < -180) | (train['dropoff_longitude'] > 180)].index, axis = 0)"
   ]
  },
  {
   "cell_type": "code",
   "execution_count": 0,
   "metadata": {
    "colab": {},
    "colab_type": "code",
    "id": "jsyZugAGCvW8"
   },
   "outputs": [],
   "source": [
    "# Convert `pickup_datetime` to pandas date time:\n",
    "train['pickup_datetime'] = pd.to_datetime(train['pickup_datetime'])"
   ]
  },
  {
   "cell_type": "code",
   "execution_count": 0,
   "metadata": {
    "colab": {},
    "colab_type": "code",
    "id": "yC6mYKj1CvNV"
   },
   "outputs": [],
   "source": [
    "# Define a function allow us to compute distance given latitude and longitude 2 points in map:\n",
    "def haversine_distance(lat1, long1, lat2, long2, dataset):\n",
    "    R = 6371  #radius of earth in kilometers\n",
    "    phi1 = np.radians(dataset[lat1])\n",
    "    phi2 = np.radians(dataset[lat2])\n",
    "\n",
    "    delta_phi = np.radians(dataset[lat2] - dataset[lat1])\n",
    "    delta_lambda = np.radians(dataset[long2] - dataset[long1])\n",
    "    \n",
    "    #a = sin²((φB - φA)/2) + cos φA . cos φB . sin²((λB - λA)/2)\n",
    "    a = np.sin(delta_phi / 2.0) ** 2 + np.cos(phi1) * np.cos(phi2) * np.sin(delta_lambda / 2.0) ** 2\n",
    "    \n",
    "    #c = 2 * atan2( √a, √(1−a) )\n",
    "    c = 2 * np.arctan2(np.sqrt(a), np.sqrt(1-a))\n",
    "    \n",
    "    #d = R*c\n",
    "    d = (R * c) #in kilometers\n",
    "    dataset['H_Distance'] = d\n",
    "    return dataset"
   ]
  },
  {
   "cell_type": "code",
   "execution_count": 0,
   "metadata": {
    "colab": {},
    "colab_type": "code",
    "id": "J-qKboZp-yzP"
   },
   "outputs": [],
   "source": [
    "# Compute the distance between pickup và dropoff\n",
    "train = haversine_distance('pickup_latitude', 'pickup_longitude', 'dropoff_latitude', 'dropoff_longitude', train)"
   ]
  },
  {
   "cell_type": "code",
   "execution_count": 0,
   "metadata": {
    "colab": {},
    "colab_type": "code",
    "id": "YkpyZ8HpGV5a"
   },
   "outputs": [],
   "source": [
    "# Define variables `Year`, `Month`, `Date`, `Day of week`, `Hour`:\n",
    "train['Year'] = train['pickup_datetime'].dt.year\n",
    "train['Month'] = train['pickup_datetime'].dt.month\n",
    "train['Date'] = train['pickup_datetime'].dt.day\n",
    "train['Day of Week'] = train['pickup_datetime'].dt.dayofweek\n",
    "train['Hour'] = train['pickup_datetime'].dt.hour"
   ]
  },
  {
   "cell_type": "code",
   "execution_count": 0,
   "metadata": {
    "colab": {
     "base_uri": "https://localhost:8080/",
     "height": 343
    },
    "colab_type": "code",
    "id": "_PAA2smVG01k",
    "outputId": "e0d98059-c239-403b-99ca-bcc9e8e68eac"
   },
   "outputs": [
    {
     "data": {
      "text/html": [
       "<div>\n",
       "<style scoped>\n",
       "    .dataframe tbody tr th:only-of-type {\n",
       "        vertical-align: middle;\n",
       "    }\n",
       "\n",
       "    .dataframe tbody tr th {\n",
       "        vertical-align: top;\n",
       "    }\n",
       "\n",
       "    .dataframe thead th {\n",
       "        text-align: right;\n",
       "    }\n",
       "</style>\n",
       "<table border=\"1\" class=\"dataframe\">\n",
       "  <thead>\n",
       "    <tr style=\"text-align: right;\">\n",
       "      <th></th>\n",
       "      <th>key</th>\n",
       "      <th>fare_amount</th>\n",
       "      <th>pickup_datetime</th>\n",
       "      <th>pickup_longitude</th>\n",
       "      <th>pickup_latitude</th>\n",
       "      <th>dropoff_longitude</th>\n",
       "      <th>dropoff_latitude</th>\n",
       "      <th>passenger_count</th>\n",
       "      <th>H_Distance</th>\n",
       "      <th>Year</th>\n",
       "      <th>Month</th>\n",
       "      <th>Date</th>\n",
       "      <th>Day of Week</th>\n",
       "      <th>Hour</th>\n",
       "    </tr>\n",
       "  </thead>\n",
       "  <tbody>\n",
       "    <tr>\n",
       "      <th>0</th>\n",
       "      <td>2009-06-15 17:26:21.0000001</td>\n",
       "      <td>4.5</td>\n",
       "      <td>2009-06-15 17:26:21</td>\n",
       "      <td>-73.844311</td>\n",
       "      <td>40.721319</td>\n",
       "      <td>-73.841610</td>\n",
       "      <td>40.712278</td>\n",
       "      <td>1</td>\n",
       "      <td>1.030764</td>\n",
       "      <td>2009</td>\n",
       "      <td>6</td>\n",
       "      <td>15</td>\n",
       "      <td>0</td>\n",
       "      <td>17</td>\n",
       "    </tr>\n",
       "    <tr>\n",
       "      <th>1</th>\n",
       "      <td>2010-01-05 16:52:16.0000002</td>\n",
       "      <td>16.9</td>\n",
       "      <td>2010-01-05 16:52:16</td>\n",
       "      <td>-74.016048</td>\n",
       "      <td>40.711303</td>\n",
       "      <td>-73.979268</td>\n",
       "      <td>40.782004</td>\n",
       "      <td>1</td>\n",
       "      <td>8.450134</td>\n",
       "      <td>2010</td>\n",
       "      <td>1</td>\n",
       "      <td>5</td>\n",
       "      <td>1</td>\n",
       "      <td>16</td>\n",
       "    </tr>\n",
       "    <tr>\n",
       "      <th>2</th>\n",
       "      <td>2011-08-18 00:35:00.00000049</td>\n",
       "      <td>5.7</td>\n",
       "      <td>2011-08-18 00:35:00</td>\n",
       "      <td>-73.982738</td>\n",
       "      <td>40.761270</td>\n",
       "      <td>-73.991242</td>\n",
       "      <td>40.750562</td>\n",
       "      <td>2</td>\n",
       "      <td>1.389525</td>\n",
       "      <td>2011</td>\n",
       "      <td>8</td>\n",
       "      <td>18</td>\n",
       "      <td>3</td>\n",
       "      <td>0</td>\n",
       "    </tr>\n",
       "    <tr>\n",
       "      <th>3</th>\n",
       "      <td>2012-04-21 04:30:42.0000001</td>\n",
       "      <td>7.7</td>\n",
       "      <td>2012-04-21 04:30:42</td>\n",
       "      <td>-73.987130</td>\n",
       "      <td>40.733143</td>\n",
       "      <td>-73.991567</td>\n",
       "      <td>40.758092</td>\n",
       "      <td>1</td>\n",
       "      <td>2.799270</td>\n",
       "      <td>2012</td>\n",
       "      <td>4</td>\n",
       "      <td>21</td>\n",
       "      <td>5</td>\n",
       "      <td>4</td>\n",
       "    </tr>\n",
       "    <tr>\n",
       "      <th>4</th>\n",
       "      <td>2010-03-09 07:51:00.000000135</td>\n",
       "      <td>5.3</td>\n",
       "      <td>2010-03-09 07:51:00</td>\n",
       "      <td>-73.968095</td>\n",
       "      <td>40.768008</td>\n",
       "      <td>-73.956655</td>\n",
       "      <td>40.783762</td>\n",
       "      <td>1</td>\n",
       "      <td>1.999157</td>\n",
       "      <td>2010</td>\n",
       "      <td>3</td>\n",
       "      <td>9</td>\n",
       "      <td>1</td>\n",
       "      <td>7</td>\n",
       "    </tr>\n",
       "  </tbody>\n",
       "</table>\n",
       "</div>"
      ],
      "text/plain": [
       "                             key  fare_amount  ...  Day of Week  Hour\n",
       "0    2009-06-15 17:26:21.0000001          4.5  ...            0    17\n",
       "1    2010-01-05 16:52:16.0000002         16.9  ...            1    16\n",
       "2   2011-08-18 00:35:00.00000049          5.7  ...            3     0\n",
       "3    2012-04-21 04:30:42.0000001          7.7  ...            5     4\n",
       "4  2010-03-09 07:51:00.000000135          5.3  ...            1     7\n",
       "\n",
       "[5 rows x 14 columns]"
      ]
     },
     "execution_count": 62,
     "metadata": {
      "tags": []
     },
     "output_type": "execute_result"
    }
   ],
   "source": [
    "train.head()"
   ]
  },
  {
   "cell_type": "code",
   "execution_count": 0,
   "metadata": {
    "colab": {
     "base_uri": "https://localhost:8080/",
     "height": 317
    },
    "colab_type": "code",
    "id": "qFrrdOKHG0yj",
    "outputId": "72bd45f5-7a4c-460b-f0d8-5647f79e5c77"
   },
   "outputs": [
    {
     "data": {
      "text/html": [
       "<div>\n",
       "<style scoped>\n",
       "    .dataframe tbody tr th:only-of-type {\n",
       "        vertical-align: middle;\n",
       "    }\n",
       "\n",
       "    .dataframe tbody tr th {\n",
       "        vertical-align: top;\n",
       "    }\n",
       "\n",
       "    .dataframe thead th {\n",
       "        text-align: right;\n",
       "    }\n",
       "</style>\n",
       "<table border=\"1\" class=\"dataframe\">\n",
       "  <thead>\n",
       "    <tr style=\"text-align: right;\">\n",
       "      <th></th>\n",
       "      <th>fare_amount</th>\n",
       "      <th>pickup_longitude</th>\n",
       "      <th>pickup_latitude</th>\n",
       "      <th>dropoff_longitude</th>\n",
       "      <th>dropoff_latitude</th>\n",
       "      <th>passenger_count</th>\n",
       "      <th>H_Distance</th>\n",
       "      <th>Year</th>\n",
       "      <th>Month</th>\n",
       "      <th>Date</th>\n",
       "      <th>Day of Week</th>\n",
       "      <th>Hour</th>\n",
       "    </tr>\n",
       "  </thead>\n",
       "  <tbody>\n",
       "    <tr>\n",
       "      <th>count</th>\n",
       "      <td>999911.000000</td>\n",
       "      <td>999911.000000</td>\n",
       "      <td>999911.000000</td>\n",
       "      <td>999911.000000</td>\n",
       "      <td>999911.000000</td>\n",
       "      <td>999911.000000</td>\n",
       "      <td>999911.000000</td>\n",
       "      <td>999911.000000</td>\n",
       "      <td>999911.000000</td>\n",
       "      <td>999911.000000</td>\n",
       "      <td>999911.000000</td>\n",
       "      <td>999911.000000</td>\n",
       "    </tr>\n",
       "    <tr>\n",
       "      <th>mean</th>\n",
       "      <td>11.348597</td>\n",
       "      <td>-72.517395</td>\n",
       "      <td>39.926794</td>\n",
       "      <td>-72.515537</td>\n",
       "      <td>39.926038</td>\n",
       "      <td>1.684734</td>\n",
       "      <td>18.890787</td>\n",
       "      <td>2011.741039</td>\n",
       "      <td>6.268010</td>\n",
       "      <td>15.697940</td>\n",
       "      <td>3.039845</td>\n",
       "      <td>13.509595</td>\n",
       "    </tr>\n",
       "    <tr>\n",
       "      <th>std</th>\n",
       "      <td>9.821236</td>\n",
       "      <td>10.393285</td>\n",
       "      <td>6.089238</td>\n",
       "      <td>10.396301</td>\n",
       "      <td>6.093210</td>\n",
       "      <td>1.307722</td>\n",
       "      <td>360.390394</td>\n",
       "      <td>1.860751</td>\n",
       "      <td>3.436245</td>\n",
       "      <td>8.682462</td>\n",
       "      <td>1.949968</td>\n",
       "      <td>6.513805</td>\n",
       "    </tr>\n",
       "    <tr>\n",
       "      <th>min</th>\n",
       "      <td>0.000000</td>\n",
       "      <td>-128.175950</td>\n",
       "      <td>-74.016587</td>\n",
       "      <td>-121.391248</td>\n",
       "      <td>-74.035197</td>\n",
       "      <td>0.000000</td>\n",
       "      <td>0.000000</td>\n",
       "      <td>2009.000000</td>\n",
       "      <td>1.000000</td>\n",
       "      <td>1.000000</td>\n",
       "      <td>0.000000</td>\n",
       "      <td>0.000000</td>\n",
       "    </tr>\n",
       "    <tr>\n",
       "      <th>25%</th>\n",
       "      <td>6.000000</td>\n",
       "      <td>-73.992060</td>\n",
       "      <td>40.734965</td>\n",
       "      <td>-73.991385</td>\n",
       "      <td>40.734047</td>\n",
       "      <td>1.000000</td>\n",
       "      <td>1.212957</td>\n",
       "      <td>2010.000000</td>\n",
       "      <td>3.000000</td>\n",
       "      <td>8.000000</td>\n",
       "      <td>1.000000</td>\n",
       "      <td>9.000000</td>\n",
       "    </tr>\n",
       "    <tr>\n",
       "      <th>50%</th>\n",
       "      <td>8.500000</td>\n",
       "      <td>-73.981792</td>\n",
       "      <td>40.752695</td>\n",
       "      <td>-73.980135</td>\n",
       "      <td>40.753166</td>\n",
       "      <td>1.000000</td>\n",
       "      <td>2.115891</td>\n",
       "      <td>2012.000000</td>\n",
       "      <td>6.000000</td>\n",
       "      <td>16.000000</td>\n",
       "      <td>3.000000</td>\n",
       "      <td>14.000000</td>\n",
       "    </tr>\n",
       "    <tr>\n",
       "      <th>75%</th>\n",
       "      <td>12.500000</td>\n",
       "      <td>-73.967095</td>\n",
       "      <td>40.767153</td>\n",
       "      <td>-73.963654</td>\n",
       "      <td>40.768129</td>\n",
       "      <td>2.000000</td>\n",
       "      <td>3.882180</td>\n",
       "      <td>2013.000000</td>\n",
       "      <td>9.000000</td>\n",
       "      <td>23.000000</td>\n",
       "      <td>5.000000</td>\n",
       "      <td>19.000000</td>\n",
       "    </tr>\n",
       "    <tr>\n",
       "      <th>max</th>\n",
       "      <td>500.000000</td>\n",
       "      <td>40.850357</td>\n",
       "      <td>69.400000</td>\n",
       "      <td>45.581619</td>\n",
       "      <td>81.510177</td>\n",
       "      <td>6.000000</td>\n",
       "      <td>12594.704725</td>\n",
       "      <td>2015.000000</td>\n",
       "      <td>12.000000</td>\n",
       "      <td>31.000000</td>\n",
       "      <td>6.000000</td>\n",
       "      <td>23.000000</td>\n",
       "    </tr>\n",
       "  </tbody>\n",
       "</table>\n",
       "</div>"
      ],
      "text/plain": [
       "         fare_amount      ...                 Hour\n",
       "count  999911.000000      ...        999911.000000\n",
       "mean       11.348597      ...            13.509595\n",
       "std         9.821236      ...             6.513805\n",
       "min         0.000000      ...             0.000000\n",
       "25%         6.000000      ...             9.000000\n",
       "50%         8.500000      ...            14.000000\n",
       "75%        12.500000      ...            19.000000\n",
       "max       500.000000      ...            23.000000\n",
       "\n",
       "[8 rows x 12 columns]"
      ]
     },
     "execution_count": 63,
     "metadata": {
      "tags": []
     },
     "output_type": "execute_result"
    }
   ],
   "source": [
    "# Check statistic descriptive\n",
    "train.describe()"
   ]
  },
  {
   "cell_type": "markdown",
   "metadata": {
    "colab_type": "text",
    "id": "bCjKwsiZDlKc"
   },
   "source": [
    "**Nhận xét:**\n",
    "- `fare_amount`: max 500$.\n",
    "- Values longtitude, latitude and `passenger_count`: ok.\n",
    "- `H_Distance`: big values std and max (quantiles ok)."
   ]
  },
  {
   "cell_type": "markdown",
   "metadata": {
    "colab_type": "text",
    "id": "-KHtxnEEELx5"
   },
   "source": [
    "# 2. Exploratory data analysis (EDA) "
   ]
  },
  {
   "cell_type": "markdown",
   "metadata": {
    "colab_type": "text",
    "id": "uCd_p4T_ETvp"
   },
   "source": [
    "## 2.1. Dependent variable: `fare_amount`"
   ]
  },
  {
   "cell_type": "code",
   "execution_count": 0,
   "metadata": {
    "colab": {
     "base_uri": "https://localhost:8080/",
     "height": 282
    },
    "colab_type": "code",
    "id": "AT_0b3QjEs2Z",
    "outputId": "b598d886-31af-42a4-a69b-37e54a9b2310"
   },
   "outputs": [
    {
     "data": {
      "text/plain": [
       "<matplotlib.axes._subplots.AxesSubplot at 0x7f9c95865f28>"
      ]
     },
     "execution_count": 64,
     "metadata": {
      "tags": []
     },
     "output_type": "execute_result"
    },
    {
     "data": {
      "image/png": "[encoded data removed]",
      "text/plain": [
       "<matplotlib.figure.Figure at 0x7f9caaf5a940>"
      ]
     },
     "metadata": {
      "tags": []
     },
     "output_type": "display_data"
    }
   ],
   "source": [
    "# Check distribution:\n",
    "train['fare_amount'].plot.hist()"
   ]
  },
  {
   "cell_type": "markdown",
   "metadata": {
    "colab_type": "text",
    "id": "cRNgtaiIEmFN"
   },
   "source": [
    "**Nhận xét:** `fare_amount` right skewed -> fare taxi focus on interval 0-50 $"
   ]
  },
  {
   "cell_type": "code",
   "execution_count": 0,
   "metadata": {
    "colab": {
     "base_uri": "https://localhost:8080/",
     "height": 282
    },
    "colab_type": "code",
    "id": "NOxRMlATEs5T",
    "outputId": "d4f9c85f-5cef-4fa6-d309-0db6bc713f4c"
   },
   "outputs": [
    {
     "data": {
      "text/plain": [
       "<matplotlib.axes._subplots.AxesSubplot at 0x7f9c958263c8>"
      ]
     },
     "execution_count": 65,
     "metadata": {
      "tags": []
     },
     "output_type": "execute_result"
    },
    {
     "data": {
      "image/png": "[encoded data removed]",
      "text/plain": [
       "<matplotlib.figure.Figure at 0x7f9c958c9a90>"
      ]
     },
     "metadata": {
      "tags": []
     },
     "output_type": "display_data"
    }
   ],
   "source": [
    "# Check distribution between 0-50$\n",
    "train['fare_amount'].loc[train.loc[train['fare_amount'] < 50].index].plot.hist(bins = 20)"
   ]
  },
  {
   "cell_type": "code",
   "execution_count": 0,
   "metadata": {
    "colab": {
     "base_uri": "https://localhost:8080/",
     "height": 487
    },
    "colab_type": "code",
    "id": "O83CkCVGTk8p",
    "outputId": "480cf796-ef4c-4451-ba9e-518806737564"
   },
   "outputs": [
    {
     "data": {
      "text/html": [
       "<div>\n",
       "<style scoped>\n",
       "    .dataframe tbody tr th:only-of-type {\n",
       "        vertical-align: middle;\n",
       "    }\n",
       "\n",
       "    .dataframe tbody tr th {\n",
       "        vertical-align: top;\n",
       "    }\n",
       "\n",
       "    .dataframe thead th {\n",
       "        text-align: right;\n",
       "    }\n",
       "</style>\n",
       "<table border=\"1\" class=\"dataframe\">\n",
       "  <thead>\n",
       "    <tr style=\"text-align: right;\">\n",
       "      <th></th>\n",
       "      <th>key</th>\n",
       "      <th>fare_amount</th>\n",
       "      <th>pickup_datetime</th>\n",
       "      <th>pickup_longitude</th>\n",
       "      <th>pickup_latitude</th>\n",
       "      <th>dropoff_longitude</th>\n",
       "      <th>dropoff_latitude</th>\n",
       "      <th>passenger_count</th>\n",
       "      <th>H_Distance</th>\n",
       "      <th>Year</th>\n",
       "      <th>Month</th>\n",
       "      <th>Date</th>\n",
       "      <th>Day of Week</th>\n",
       "      <th>Hour</th>\n",
       "    </tr>\n",
       "  </thead>\n",
       "  <tbody>\n",
       "    <tr>\n",
       "      <th>101885</th>\n",
       "      <td>2011-09-12 09:33:56.0000004</td>\n",
       "      <td>500.00</td>\n",
       "      <td>2011-09-12 09:33:56</td>\n",
       "      <td>-73.965961</td>\n",
       "      <td>40.640595</td>\n",
       "      <td>-73.965961</td>\n",
       "      <td>40.640595</td>\n",
       "      <td>1</td>\n",
       "      <td>0.000000</td>\n",
       "      <td>2011</td>\n",
       "      <td>9</td>\n",
       "      <td>12</td>\n",
       "      <td>0</td>\n",
       "      <td>9</td>\n",
       "    </tr>\n",
       "    <tr>\n",
       "      <th>233874</th>\n",
       "      <td>2012-10-28 14:14:44.0000001</td>\n",
       "      <td>450.00</td>\n",
       "      <td>2012-10-28 14:14:44</td>\n",
       "      <td>-73.931985</td>\n",
       "      <td>40.793829</td>\n",
       "      <td>-73.929148</td>\n",
       "      <td>40.799672</td>\n",
       "      <td>1</td>\n",
       "      <td>0.692212</td>\n",
       "      <td>2012</td>\n",
       "      <td>10</td>\n",
       "      <td>28</td>\n",
       "      <td>6</td>\n",
       "      <td>14</td>\n",
       "    </tr>\n",
       "    <tr>\n",
       "      <th>247671</th>\n",
       "      <td>2015-05-12 13:16:47.0000004</td>\n",
       "      <td>495.00</td>\n",
       "      <td>2015-05-12 13:16:47</td>\n",
       "      <td>-73.814911</td>\n",
       "      <td>40.699562</td>\n",
       "      <td>-72.196091</td>\n",
       "      <td>41.012253</td>\n",
       "      <td>1</td>\n",
       "      <td>140.514983</td>\n",
       "      <td>2015</td>\n",
       "      <td>5</td>\n",
       "      <td>12</td>\n",
       "      <td>1</td>\n",
       "      <td>13</td>\n",
       "    </tr>\n",
       "    <tr>\n",
       "      <th>287638</th>\n",
       "      <td>2015-03-11 16:25:21.0000007</td>\n",
       "      <td>450.00</td>\n",
       "      <td>2015-03-11 16:25:21</td>\n",
       "      <td>-73.909019</td>\n",
       "      <td>40.777611</td>\n",
       "      <td>-73.908997</td>\n",
       "      <td>40.777607</td>\n",
       "      <td>1</td>\n",
       "      <td>0.001973</td>\n",
       "      <td>2015</td>\n",
       "      <td>3</td>\n",
       "      <td>11</td>\n",
       "      <td>2</td>\n",
       "      <td>16</td>\n",
       "    </tr>\n",
       "    <tr>\n",
       "      <th>329010</th>\n",
       "      <td>2011-07-29 14:19:00.000000200</td>\n",
       "      <td>450.00</td>\n",
       "      <td>2011-07-29 14:19:00</td>\n",
       "      <td>-73.955373</td>\n",
       "      <td>40.810310</td>\n",
       "      <td>-73.955372</td>\n",
       "      <td>40.810323</td>\n",
       "      <td>1</td>\n",
       "      <td>0.001448</td>\n",
       "      <td>2011</td>\n",
       "      <td>7</td>\n",
       "      <td>29</td>\n",
       "      <td>4</td>\n",
       "      <td>14</td>\n",
       "    </tr>\n",
       "    <tr>\n",
       "      <th>361793</th>\n",
       "      <td>2011-05-05 08:39:00.00000018</td>\n",
       "      <td>400.00</td>\n",
       "      <td>2011-05-05 08:39:00</td>\n",
       "      <td>-73.852663</td>\n",
       "      <td>40.897932</td>\n",
       "      <td>-73.852673</td>\n",
       "      <td>40.897923</td>\n",
       "      <td>1</td>\n",
       "      <td>0.001307</td>\n",
       "      <td>2011</td>\n",
       "      <td>5</td>\n",
       "      <td>5</td>\n",
       "      <td>3</td>\n",
       "      <td>8</td>\n",
       "    </tr>\n",
       "    <tr>\n",
       "      <th>451974</th>\n",
       "      <td>2011-10-08 05:17:04.0000002</td>\n",
       "      <td>400.00</td>\n",
       "      <td>2011-10-08 05:17:04</td>\n",
       "      <td>-73.943676</td>\n",
       "      <td>40.708061</td>\n",
       "      <td>-73.943665</td>\n",
       "      <td>40.708141</td>\n",
       "      <td>1</td>\n",
       "      <td>0.008944</td>\n",
       "      <td>2011</td>\n",
       "      <td>10</td>\n",
       "      <td>8</td>\n",
       "      <td>5</td>\n",
       "      <td>5</td>\n",
       "    </tr>\n",
       "    <tr>\n",
       "      <th>951810</th>\n",
       "      <td>2015-03-24 17:14:27.0000001</td>\n",
       "      <td>347.54</td>\n",
       "      <td>2015-03-24 17:14:27</td>\n",
       "      <td>-73.811020</td>\n",
       "      <td>40.693180</td>\n",
       "      <td>-73.138634</td>\n",
       "      <td>41.261410</td>\n",
       "      <td>1</td>\n",
       "      <td>84.724849</td>\n",
       "      <td>2015</td>\n",
       "      <td>3</td>\n",
       "      <td>24</td>\n",
       "      <td>1</td>\n",
       "      <td>17</td>\n",
       "    </tr>\n",
       "  </tbody>\n",
       "</table>\n",
       "</div>"
      ],
      "text/plain": [
       "                                  key  fare_amount  ...  Day of Week  Hour\n",
       "101885    2011-09-12 09:33:56.0000004       500.00  ...            0     9\n",
       "233874    2012-10-28 14:14:44.0000001       450.00  ...            6    14\n",
       "247671    2015-05-12 13:16:47.0000004       495.00  ...            1    13\n",
       "287638    2015-03-11 16:25:21.0000007       450.00  ...            2    16\n",
       "329010  2011-07-29 14:19:00.000000200       450.00  ...            4    14\n",
       "361793   2011-05-05 08:39:00.00000018       400.00  ...            3     8\n",
       "451974    2011-10-08 05:17:04.0000002       400.00  ...            5     5\n",
       "951810    2015-03-24 17:14:27.0000001       347.54  ...            1    17\n",
       "\n",
       "[8 rows x 14 columns]"
      ]
     },
     "execution_count": 66,
     "metadata": {
      "tags": []
     },
     "output_type": "execute_result"
    }
   ],
   "source": [
    "# Check very big values `fare_amount`:\n",
    "train.loc[train['fare_amount'] > 300]"
   ]
  },
  {
   "cell_type": "markdown",
   "metadata": {
    "colab_type": "text",
    "id": "kVPGaia4Fbbv"
   },
   "source": [
    "**Nhận xét:** Có 8 obs `fare_amount` lớn hơn 300$, trong khi hầu hết quãng đường lại rất ngắn -> chắc chắn ảnh hưởng đến prediction nếu cứ giữ nguyên."
   ]
  },
  {
   "cell_type": "code",
   "execution_count": 0,
   "metadata": {
    "colab": {
     "base_uri": "https://localhost:8080/",
     "height": 34
    },
    "colab_type": "code",
    "id": "WyTckcp6GTAN",
    "outputId": "0a39f38c-b49b-495a-eb86-8dd08626d873"
   },
   "outputs": [
    {
     "data": {
      "text/plain": [
       "396"
      ]
     },
     "execution_count": 67,
     "metadata": {
      "tags": []
     },
     "output_type": "execute_result"
    }
   ],
   "source": [
    "# Check whether 'fare_amount' > 100$\n",
    "len(train.loc[train['fare_amount'] > 100])"
   ]
  },
  {
   "cell_type": "code",
   "execution_count": 0,
   "metadata": {
    "colab": {
     "base_uri": "https://localhost:8080/",
     "height": 34
    },
    "colab_type": "code",
    "id": "Y0JAJAEpEs8A",
    "outputId": "9dcd6377-e399-475e-f1af-580bd75042e2"
   },
   "outputs": [
    {
     "data": {
      "text/plain": [
       "29"
      ]
     },
     "execution_count": 68,
     "metadata": {
      "tags": []
     },
     "output_type": "execute_result"
    }
   ],
   "source": [
    "# Check whether 'fare_amount' = 0\n",
    "len(train.loc[train['fare_amount'] == 0])"
   ]
  },
  {
   "cell_type": "markdown",
   "metadata": {
    "colab_type": "text",
    "id": "OTCvyY4dGTEF"
   },
   "source": [
    "## 2.2. `passenger_count` variable"
   ]
  },
  {
   "cell_type": "code",
   "execution_count": 0,
   "metadata": {
    "colab": {
     "base_uri": "https://localhost:8080/",
     "height": 278
    },
    "colab_type": "code",
    "id": "cTNNTTfPEs-1",
    "outputId": "0cce4ba3-0b99-4078-c1f1-626b34e37a41"
   },
   "outputs": [
    {
     "data": {
      "text/plain": [
       "<matplotlib.axes._subplots.AxesSubplot at 0x7f9c957a6668>"
      ]
     },
     "execution_count": 69,
     "metadata": {
      "tags": []
     },
     "output_type": "execute_result"
    },
    {
     "data": {
      "image/png": "[encoded data removed]",
      "text/plain": [
       "<matplotlib.figure.Figure at 0x7f9c95854ef0>"
      ]
     },
     "metadata": {
      "tags": []
     },
     "output_type": "display_data"
    }
   ],
   "source": [
    "# Đếm số lượng obs của từng loại\n",
    "train['passenger_count'].value_counts().sort_index().plot.bar()"
   ]
  },
  {
   "cell_type": "markdown",
   "metadata": {
    "colab_type": "text",
    "id": "R2imnq4rGt0W"
   },
   "source": [
    "**Nhận xét:** Có thể thấy số lượng hành khách là 1, 2, 5 chiếm đa số trong dataset."
   ]
  },
  {
   "cell_type": "code",
   "execution_count": 0,
   "metadata": {
    "colab": {
     "base_uri": "https://localhost:8080/",
     "height": 298
    },
    "colab_type": "code",
    "id": "9Yzgn6XZEtBu",
    "outputId": "223bdf12-e86d-46c5-90d4-8c82e741b475"
   },
   "outputs": [
    {
     "data": {
      "text/plain": [
       "<matplotlib.axes._subplots.AxesSubplot at 0x7f9c957b5860>"
      ]
     },
     "execution_count": 70,
     "metadata": {
      "tags": []
     },
     "output_type": "execute_result"
    },
    {
     "data": {
      "image/png": "[encoded data removed]",
      "text/plain": [
       "<matplotlib.figure.Figure at 0x7f9c95856b38>"
      ]
     },
     "metadata": {
      "tags": []
     },
     "output_type": "display_data"
    }
   ],
   "source": [
    "# Biểu diễn quan hệ giữa `fare_amount` và `passenger_count`\n",
    "train.plot.scatter(x = 'passenger_count', y = 'fare_amount')"
   ]
  },
  {
   "cell_type": "markdown",
   "metadata": {
    "colab_type": "text",
    "id": "Q9yD12twHjIN"
   },
   "source": [
    "**Nhận xét:** Có thể thấy số lượng khách hàng càng ít thì giá cước taxi có xu hướng cao hơn trong bộ dataset này (lưu ý số lượng khách hàng là 0 có thể hiểu là trường hợp taxi chờ khách hàng nhưng sau đó KH hủy chuyến đi nên họ vẫn phải thanh toán)"
   ]
  },
  {
   "cell_type": "code",
   "execution_count": 0,
   "metadata": {
    "colab": {
     "base_uri": "https://localhost:8080/",
     "height": 352
    },
    "colab_type": "code",
    "id": "w3DIiYXtEtHC",
    "outputId": "6e6bfbdb-81d6-489b-875f-748adbe18caf"
   },
   "outputs": [
    {
     "name": "stderr",
     "output_type": "stream",
     "text": [
      "/usr/local/lib/python3.6/dist-packages/seaborn/categorical.py:454: FutureWarning: remove_na is deprecated and is a private function. Do not use.\n",
      "  box_data = remove_na(group_data)\n"
     ]
    },
    {
     "data": {
      "text/plain": [
       "<matplotlib.axes._subplots.AxesSubplot at 0x7f9c956f5d30>"
      ]
     },
     "execution_count": 71,
     "metadata": {
      "tags": []
     },
     "output_type": "execute_result"
    },
    {
     "data": {
      "image/png": "[encoded data removed]",
      "text/plain": [
       "<matplotlib.figure.Figure at 0x7f9c95702128>"
      ]
     },
     "metadata": {
      "tags": []
     },
     "output_type": "display_data"
    }
   ],
   "source": [
    "# Check bằng boxplot để xem từng số lượng hành khách thì `fare_amount` nằm chủ yếu ở khoảng nào\n",
    "sns.boxplot(x = 'passenger_count', y = 'fare_amount', data = train.loc[train['fare_amount'] < 100])"
   ]
  },
  {
   "cell_type": "markdown",
   "metadata": {
    "colab_type": "text",
    "id": "F4mI1HZ0Iz7Y"
   },
   "source": [
    "## 2.3. `Year` variable"
   ]
  },
  {
   "cell_type": "code",
   "execution_count": 0,
   "metadata": {
    "colab": {
     "base_uri": "https://localhost:8080/",
     "height": 295
    },
    "colab_type": "code",
    "id": "S6pFy4csI58L",
    "outputId": "a8cbd8c5-8185-45eb-a4b4-831a3141cee9"
   },
   "outputs": [
    {
     "data": {
      "text/plain": [
       "<matplotlib.axes._subplots.AxesSubplot at 0x7f9c956a6e80>"
      ]
     },
     "execution_count": 72,
     "metadata": {
      "tags": []
     },
     "output_type": "execute_result"
    },
    {
     "data": {
      "image/png": "[encoded data removed]",
      "text/plain": [
       "<matplotlib.figure.Figure at 0x7f9c956b4080>"
      ]
     },
     "metadata": {
      "tags": []
     },
     "output_type": "display_data"
    }
   ],
   "source": [
    "# Check số lượng data theo từng năm:\n",
    "train['Year'].value_counts().sort_index().plot.bar()"
   ]
  },
  {
   "cell_type": "markdown",
   "metadata": {
    "colab_type": "text",
    "id": "ldctNKniJgc-"
   },
   "source": [
    "**Nhận xét:** Có thể thấy số lượng data từng năm khá tương đồng, ngoại trừ năm 2015 có vẻ ít hơn."
   ]
  },
  {
   "cell_type": "code",
   "execution_count": 0,
   "metadata": {
    "colab": {
     "base_uri": "https://localhost:8080/",
     "height": 352
    },
    "colab_type": "code",
    "id": "Y_M9Ixj5I55J",
    "outputId": "4e5eda94-7ef0-4216-bd45-6a4a33ad68bf"
   },
   "outputs": [
    {
     "name": "stderr",
     "output_type": "stream",
     "text": [
      "/usr/local/lib/python3.6/dist-packages/seaborn/categorical.py:454: FutureWarning: remove_na is deprecated and is a private function. Do not use.\n",
      "  box_data = remove_na(group_data)\n"
     ]
    },
    {
     "data": {
      "text/plain": [
       "<matplotlib.axes._subplots.AxesSubplot at 0x7f9c955f95c0>"
      ]
     },
     "execution_count": 73,
     "metadata": {
      "tags": []
     },
     "output_type": "execute_result"
    },
    {
     "data": {
      "image/png": "[encoded data removed]",
      "text/plain": [
       "<matplotlib.figure.Figure at 0x7f9c95857ac8>"
      ]
     },
     "metadata": {
      "tags": []
     },
     "output_type": "display_data"
    }
   ],
   "source": [
    "# Check mối quan hệ với `fare_amount`\n",
    "sns.boxplot(x = 'Year', y = 'fare_amount', data = train)"
   ]
  },
  {
   "cell_type": "markdown",
   "metadata": {
    "colab_type": "text",
    "id": "Z9hUlC-XJ2Uc"
   },
   "source": [
    "**Nhận xét:** Qua từng năm thì mức độ tập trung của `fare_amount` khá là tương đồng, ngoại trừ một số mức giá đặc biệt trên 300$ xuất hiện ở những năm 2011, 2012 và 2015 -> năm dường như không tác động quá nhiều đến mức giá trung bình."
   ]
  },
  {
   "cell_type": "code",
   "execution_count": 0,
   "metadata": {
    "colab": {
     "base_uri": "https://localhost:8080/",
     "height": 458
    },
    "colab_type": "code",
    "id": "aAcdAVZdI51z",
    "outputId": "9523c7c8-619e-4346-a57d-fe4b916b32fd"
   },
   "outputs": [
    {
     "data": {
      "text/plain": [
       "<seaborn.axisgrid.FacetGrid at 0x7f9c95570eb8>"
      ]
     },
     "execution_count": 74,
     "metadata": {
      "tags": []
     },
     "output_type": "execute_result"
    },
    {
     "data": {
      "image/png": "[encoded data removed]",
      "text/plain": [
       "<matplotlib.figure.Figure at 0x7f9c95733a20>"
      ]
     },
     "metadata": {
      "tags": []
     },
     "output_type": "display_data"
    }
   ],
   "source": [
    "# Biểu diễn `fare_amount` theo `H_Distance` qua từng năm:\n",
    "g = sns.FacetGrid(train, col = 'Year', col_wrap = 4, sharex = False, sharey = False)\n",
    "g.map(plt.scatter, 'H_Distance', 'fare_amount')"
   ]
  },
  {
   "cell_type": "markdown",
   "metadata": {
    "colab_type": "text",
    "id": "qt4rjUaF6Cr3"
   },
   "source": [
    "**Nhận xét:** Có thể thấy tồn tại rất nhiều obs với khoảng cách trên 1000km -> cần phải phân tích và xử lý ở phần sau"
   ]
  },
  {
   "cell_type": "markdown",
   "metadata": {
    "colab_type": "text",
    "id": "Ir6hnz-P53ib"
   },
   "source": [
    "## 2.4. `Day of week` variable"
   ]
  },
  {
   "cell_type": "code",
   "execution_count": 0,
   "metadata": {
    "colab": {
     "base_uri": "https://localhost:8080/",
     "height": 279
    },
    "colab_type": "code",
    "id": "-rBNfzfw52Vd",
    "outputId": "ee254915-d44b-43f6-cf82-448ff4a49f8c"
   },
   "outputs": [
    {
     "data": {
      "text/plain": [
       "<matplotlib.axes._subplots.AxesSubplot at 0x7f9c952591d0>"
      ]
     },
     "execution_count": 75,
     "metadata": {
      "tags": []
     },
     "output_type": "execute_result"
    },
    {
     "data": {
      "image/png": "[encoded data removed]",
      "text/plain": [
       "<matplotlib.figure.Figure at 0x7f9c954683c8>"
      ]
     },
     "metadata": {
      "tags": []
     },
     "output_type": "display_data"
    }
   ],
   "source": [
    "# Check số lượng data theo từng ngày trong tuần:\n",
    "train['Day of Week'].value_counts().sort_index().plot.bar()"
   ]
  },
  {
   "cell_type": "markdown",
   "metadata": {
    "colab_type": "text",
    "id": "BEb1MLEM6Tq7"
   },
   "source": [
    "**Nhận xét:** Số lượng data theo từng ngày trong tuần khá tương đồng."
   ]
  },
  {
   "cell_type": "code",
   "execution_count": 0,
   "metadata": {
    "colab": {
     "base_uri": "https://localhost:8080/",
     "height": 352
    },
    "colab_type": "code",
    "id": "pW7DxUcs52dw",
    "outputId": "1e9cde86-91fc-4ec9-c065-dfbbcf637f4c"
   },
   "outputs": [
    {
     "name": "stderr",
     "output_type": "stream",
     "text": [
      "/usr/local/lib/python3.6/dist-packages/seaborn/categorical.py:454: FutureWarning: remove_na is deprecated and is a private function. Do not use.\n",
      "  box_data = remove_na(group_data)\n"
     ]
    },
    {
     "data": {
      "text/plain": [
       "<matplotlib.axes._subplots.AxesSubplot at 0x7f9c9523bb70>"
      ]
     },
     "execution_count": 76,
     "metadata": {
      "tags": []
     },
     "output_type": "execute_result"
    },
    {
     "data": {
      "image/png": "[encoded data removed]",
      "text/plain": [
       "<matplotlib.figure.Figure at 0x7f9c956d9630>"
      ]
     },
     "metadata": {
      "tags": []
     },
     "output_type": "display_data"
    }
   ],
   "source": [
    "# Check mối quan hệ với `fare_amount`\n",
    "sns.boxplot(x = 'Day of Week', y = 'fare_amount', data = train)"
   ]
  },
  {
   "cell_type": "code",
   "execution_count": 0,
   "metadata": {
    "colab": {
     "base_uri": "https://localhost:8080/",
     "height": 352
    },
    "colab_type": "code",
    "id": "Cendk9TnI5zS",
    "outputId": "b5aa44fe-b482-4c0c-d082-6aedaea557b6"
   },
   "outputs": [
    {
     "name": "stderr",
     "output_type": "stream",
     "text": [
      "/usr/local/lib/python3.6/dist-packages/seaborn/categorical.py:454: FutureWarning: remove_na is deprecated and is a private function. Do not use.\n",
      "  box_data = remove_na(group_data)\n"
     ]
    },
    {
     "data": {
      "text/plain": [
       "<matplotlib.axes._subplots.AxesSubplot at 0x7f9c951df0f0>"
      ]
     },
     "execution_count": 77,
     "metadata": {
      "tags": []
     },
     "output_type": "execute_result"
    },
    {
     "data": {
      "image/png": "[encoded data removed]",
      "text/plain": [
       "<matplotlib.figure.Figure at 0x7f9c95287f60>"
      ]
     },
     "metadata": {
      "tags": []
     },
     "output_type": "display_data"
    }
   ],
   "source": [
    "# Check mối quan hệ với `fare_amount`\n",
    "sns.boxplot(x = 'Day of Week', y = 'fare_amount', data = train.loc[train['fare_amount'] < 200])"
   ]
  },
  {
   "cell_type": "markdown",
   "metadata": {
    "colab_type": "text",
    "id": "asyBrOa47CYi"
   },
   "source": [
    "**Nhận xét:** Có thể thấy phân phối của `fare_amount` từng ngày trong tuần không có sự khác biệt rõ rệt, kể cả Thứ Bảy Chủ nhật (5, 6)"
   ]
  },
  {
   "cell_type": "code",
   "execution_count": 0,
   "metadata": {
    "colab": {
     "base_uri": "https://localhost:8080/",
     "height": 458
    },
    "colab_type": "code",
    "id": "gJbmg_NX7RFo",
    "outputId": "d1a70159-3447-4d7a-bf5d-69ae02955b0f"
   },
   "outputs": [
    {
     "data": {
      "text/plain": [
       "<seaborn.axisgrid.FacetGrid at 0x7f9c950606a0>"
      ]
     },
     "execution_count": 78,
     "metadata": {
      "tags": []
     },
     "output_type": "execute_result"
    },
    {
     "data": {
      "image/png": "[encoded data removed]",
      "text/plain": [
       "<matplotlib.figure.Figure at 0x7f9c952c2198>"
      ]
     },
     "metadata": {
      "tags": []
     },
     "output_type": "display_data"
    }
   ],
   "source": [
    "# Biểu diễn `fare_amount` theo `H_Distance` qua từng năm:\n",
    "g = sns.FacetGrid(train, col = 'Day of Week', col_wrap = 4, sharex = False, sharey = False)\n",
    "g.map(plt.scatter, 'H_Distance', 'fare_amount')"
   ]
  },
  {
   "cell_type": "markdown",
   "metadata": {
    "colab_type": "text",
    "id": "Epz4uAcz8MAp"
   },
   "source": [
    "**Nhận xét:** Có thể thấy tồn tại rất nhiều obs với khoảng cách trên 1000km -> cần phải phân tích và xử lý ở phần sau"
   ]
  },
  {
   "cell_type": "markdown",
   "metadata": {
    "colab_type": "text",
    "id": "M5nG9YYg8sFw"
   },
   "source": [
    "## 2.5. `Hour` variable"
   ]
  },
  {
   "cell_type": "code",
   "execution_count": 0,
   "metadata": {
    "colab": {},
    "colab_type": "code",
    "id": "0NDLecvi8NuA"
   },
   "outputs": [],
   "source": [
    "# Create `rush_hour` variable\n",
    "train['rush_hour'] = train['Hour'].apply(lambda x: 'Yes' if ((x >= 6) & (x <= 20)) else 'No')"
   ]
  },
  {
   "cell_type": "code",
   "execution_count": 0,
   "metadata": {
    "colab": {
     "base_uri": "https://localhost:8080/",
     "height": 290
    },
    "colab_type": "code",
    "id": "LSxD1Blu8wx0",
    "outputId": "2c57dd89-6252-4fed-f78e-579503a47d4c"
   },
   "outputs": [
    {
     "data": {
      "text/plain": [
       "<matplotlib.axes._subplots.AxesSubplot at 0x7f9c94ebcf60>"
      ]
     },
     "execution_count": 80,
     "metadata": {
      "tags": []
     },
     "output_type": "execute_result"
    },
    {
     "data": {
      "image/png": "[encoded data removed]",
      "text/plain": [
       "<matplotlib.figure.Figure at 0x7f9c94e65a20>"
      ]
     },
     "metadata": {
      "tags": []
     },
     "output_type": "display_data"
    }
   ],
   "source": [
    "# Đếm số lượng data từng loại\n",
    "train['rush_hour'].value_counts().sort_index().plot.bar()"
   ]
  },
  {
   "cell_type": "markdown",
   "metadata": {
    "colab_type": "text",
    "id": "CrqIuUUw9D3h"
   },
   "source": [
    "**Nhận xét:** Số lượng data thuộc giờ cao điểm chiếm phần lớn trong dataset"
   ]
  },
  {
   "cell_type": "code",
   "execution_count": 0,
   "metadata": {
    "colab": {
     "base_uri": "https://localhost:8080/",
     "height": 242
    },
    "colab_type": "code",
    "id": "So4_ZX8N8wul",
    "outputId": "d3d050f9-0eaa-4f41-cbb2-cf7fcd453de4"
   },
   "outputs": [
    {
     "data": {
      "text/plain": [
       "<seaborn.axisgrid.FacetGrid at 0x7f9c94e05f28>"
      ]
     },
     "execution_count": 83,
     "metadata": {
      "tags": []
     },
     "output_type": "execute_result"
    },
    {
     "data": {
      "image/png": "[encoded data removed]",
      "text/plain": [
       "<matplotlib.figure.Figure at 0x7f9c94e05630>"
      ]
     },
     "metadata": {
      "tags": []
     },
     "output_type": "display_data"
    }
   ],
   "source": [
    "# Check phân phối của `fare_amount` giờ cao điểm\n",
    "g = sns.FacetGrid(train, col = 'rush_hour', col_wrap = 2, sharex = False, sharey = False)\n",
    "g.map(sns.distplot, 'fare_amount')"
   ]
  },
  {
   "cell_type": "code",
   "execution_count": 0,
   "metadata": {
    "colab": {
     "base_uri": "https://localhost:8080/",
     "height": 352
    },
    "colab_type": "code",
    "id": "jlXuP9lN8wsG",
    "outputId": "914591a1-98d6-4d57-89fc-5cf7296c9d9d"
   },
   "outputs": [
    {
     "name": "stderr",
     "output_type": "stream",
     "text": [
      "/usr/local/lib/python3.6/dist-packages/seaborn/categorical.py:454: FutureWarning: remove_na is deprecated and is a private function. Do not use.\n",
      "  box_data = remove_na(group_data)\n"
     ]
    },
    {
     "data": {
      "text/plain": [
       "<matplotlib.axes._subplots.AxesSubplot at 0x7f9c92644ef0>"
      ]
     },
     "execution_count": 82,
     "metadata": {
      "tags": []
     },
     "output_type": "execute_result"
    },
    {
     "data": {
      "image/png": "[encoded data removed]",
      "text/plain": [
       "<matplotlib.figure.Figure at 0x7f9c93df55f8>"
      ]
     },
     "metadata": {
      "tags": []
     },
     "output_type": "display_data"
    }
   ],
   "source": [
    "# Check phân phối của `fare_amount` giờ cao điểm\n",
    "sns.boxplot(x = 'rush_hour', y = 'fare_amount', data = train.loc[train['fare_amount'] < 200])"
   ]
  },
  {
   "cell_type": "markdown",
   "metadata": {
    "colab_type": "text",
    "id": "zoOMA5dw9cA0"
   },
   "source": [
    "**Nhận xét:** Phân phối của `fare_amount` giờ cao điểm và không cao điểm khá tương đồng."
   ]
  },
  {
   "cell_type": "code",
   "execution_count": 0,
   "metadata": {
    "colab": {
     "base_uri": "https://localhost:8080/",
     "height": 242
    },
    "colab_type": "code",
    "id": "eW3NViRZ8wor",
    "outputId": "cd87491b-b74c-4299-92c4-a7b0e6b474f4"
   },
   "outputs": [
    {
     "data": {
      "text/plain": [
       "<seaborn.axisgrid.FacetGrid at 0x7f9c94d4e940>"
      ]
     },
     "execution_count": 84,
     "metadata": {
      "tags": []
     },
     "output_type": "execute_result"
    },
    {
     "data": {
      "image/png": "[encoded data removed]",
      "text/plain": [
       "<matplotlib.figure.Figure at 0x7f9c951d36d8>"
      ]
     },
     "metadata": {
      "tags": []
     },
     "output_type": "display_data"
    }
   ],
   "source": [
    "# Check mối quan hệ giữa `fare_amount` và `H_Distance` từng loại giờ\n",
    "g = sns.FacetGrid(train, col = 'rush_hour', col_wrap = 2, sharex = False, sharey = False)\n",
    "g.map(plt.scatter, 'H_Distance', 'fare_amount')"
   ]
  },
  {
   "cell_type": "code",
   "execution_count": 0,
   "metadata": {
    "colab": {},
    "colab_type": "code",
    "id": "ahapTXqC8wlx"
   },
   "outputs": [],
   "source": [
    "# Create `weekend` variable\n",
    "train['weekend'] = train['Day of Week'].apply(lambda x: 'Yes' if ((x == 5) | (x == 6)) else 'No')"
   ]
  },
  {
   "cell_type": "code",
   "execution_count": 0,
   "metadata": {
    "colab": {
     "base_uri": "https://localhost:8080/",
     "height": 458
    },
    "colab_type": "code",
    "id": "KaUohtVn8NqQ",
    "outputId": "b0cd4287-113c-413e-d426-b32e691baaff"
   },
   "outputs": [
    {
     "data": {
      "text/plain": [
       "<seaborn.axisgrid.FacetGrid at 0x7f9c903b1630>"
      ]
     },
     "execution_count": 90,
     "metadata": {
      "tags": []
     },
     "output_type": "execute_result"
    },
    {
     "data": {
      "image/png": "[encoded data removed]",
      "text/plain": [
       "<matplotlib.figure.Figure at 0x7f9c903b1400>"
      ]
     },
     "metadata": {
      "tags": []
     },
     "output_type": "display_data"
    }
   ],
   "source": [
    "g = sns.FacetGrid(train, col = 'rush_hour', row = 'weekend')\n",
    "g.map(sns.distplot, 'fare_amount')"
   ]
  },
  {
   "cell_type": "markdown",
   "metadata": {
    "colab_type": "text",
    "id": "-ba2trOADosL"
   },
   "source": [
    "**Nhận xét:** Có thể thấy rằng những giờ không phải cao điểm (từ 20h đến 6h sáng hôm sau) có mức độ tập trung giá taxi cao hơn giờ cao điểm, cả những ngày cuối tuần và ngày làm việc."
   ]
  },
  {
   "cell_type": "markdown",
   "metadata": {
    "colab_type": "text",
    "id": "ya2DExi8EChU"
   },
   "source": [
    "## 2.6. `H_Distance` variable\n",
    "\n",
    "Một số ý tưởng lấy từ \"https://www.kaggle.com/madhurisivalenka/cleansing-eda-modelling-lgbm-xgboost-starters\""
   ]
  },
  {
   "cell_type": "code",
   "execution_count": 0,
   "metadata": {
    "colab": {
     "base_uri": "https://localhost:8080/",
     "height": 282
    },
    "colab_type": "code",
    "id": "RDHaYbRuAH-B",
    "outputId": "9c870432-2bcd-45b6-e651-b0f6df6449af"
   },
   "outputs": [
    {
     "data": {
      "text/plain": [
       "<matplotlib.axes._subplots.AxesSubplot at 0x7f9c92772a58>"
      ]
     },
     "execution_count": 91,
     "metadata": {
      "tags": []
     },
     "output_type": "execute_result"
    },
    {
     "data": {
      "image/png": "[encoded data removed]",
      "text/plain": [
       "<matplotlib.figure.Figure at 0x7f9c948ad390>"
      ]
     },
     "metadata": {
      "tags": []
     },
     "output_type": "display_data"
    }
   ],
   "source": [
    "# Kiểm tra phân phối của `H_Distance`\n",
    "train['H_Distance'].plot.hist(bins = 20)"
   ]
  },
  {
   "cell_type": "code",
   "execution_count": 0,
   "metadata": {
    "colab": {
     "base_uri": "https://localhost:8080/",
     "height": 285
    },
    "colab_type": "code",
    "id": "COGbxfHmxqUz",
    "outputId": "f0e3af67-5c37-43fa-ff27-631688bdd422"
   },
   "outputs": [
    {
     "data": {
      "text/plain": [
       "<matplotlib.axes._subplots.AxesSubplot at 0x7f9c94472080>"
      ]
     },
     "execution_count": 92,
     "metadata": {
      "tags": []
     },
     "output_type": "execute_result"
    },
    {
     "data": {
      "image/png": "[encoded data removed]",
      "text/plain": [
       "<matplotlib.figure.Figure at 0x7f9c9256bb00>"
      ]
     },
     "metadata": {
      "tags": []
     },
     "output_type": "display_data"
    }
   ],
   "source": [
    "# Kiểm tra phân phối của `H_Distance` < 50km\n",
    "train['H_Distance'].loc[train.loc[train['H_Distance'] < 50].index].plot.hist(bins = 20)"
   ]
  },
  {
   "cell_type": "code",
   "execution_count": 0,
   "metadata": {
    "colab": {
     "base_uri": "https://localhost:8080/",
     "height": 34
    },
    "colab_type": "code",
    "id": "v7jfKB8h6FTR",
    "outputId": "e5268bcf-8bd6-4921-ba4f-b56df02fa4c6"
   },
   "outputs": [
    {
     "data": {
      "text/plain": [
       "1928"
      ]
     },
     "execution_count": 93,
     "metadata": {
      "tags": []
     },
     "output_type": "execute_result"
    }
   ],
   "source": [
    "# Check số lượng khoảng cách lớn hơn 300km\n",
    "train.loc[train['H_Distance'] > 300].shape[0]"
   ]
  },
  {
   "cell_type": "code",
   "execution_count": 0,
   "metadata": {
    "colab": {},
    "colab_type": "code",
    "id": "a3VswQp_xqST"
   },
   "outputs": [],
   "source": [
    "# Tạo biến chia khoảng cách =0, 0-10, 11-50, >50km\n",
    "train['distance_bins'] = train['H_Distance'].apply(lambda x: '0' if x == 0 else ('0-10' if x <= 10 else ('11-50' if x <= 50 else ('>50'))))"
   ]
  },
  {
   "cell_type": "code",
   "execution_count": 0,
   "metadata": {
    "colab": {
     "base_uri": "https://localhost:8080/",
     "height": 102
    },
    "colab_type": "code",
    "id": "XSyIpD4EPIx2",
    "outputId": "47e5e490-e673-4466-8524-ef2ff60adeaf"
   },
   "outputs": [
    {
     "data": {
      "text/plain": [
       ">50        2286\n",
       "0         28481\n",
       "11-50     49073\n",
       "0-10     920071\n",
       "Name: distance_bins, dtype: int64"
      ]
     },
     "execution_count": 95,
     "metadata": {
      "tags": []
     },
     "output_type": "execute_result"
    }
   ],
   "source": [
    "# Đếm số lượng từng bin\n",
    "train['distance_bins'].value_counts().sort_values()"
   ]
  },
  {
   "cell_type": "code",
   "execution_count": 0,
   "metadata": {
    "colab": {
     "base_uri": "https://localhost:8080/",
     "height": 298
    },
    "colab_type": "code",
    "id": "vUS03ZQ47fu1",
    "outputId": "a670d1f3-d208-4f05-f828-b46de2bdf92d"
   },
   "outputs": [
    {
     "data": {
      "text/plain": [
       "<matplotlib.axes._subplots.AxesSubplot at 0x7f9c94331438>"
      ]
     },
     "execution_count": 96,
     "metadata": {
      "tags": []
     },
     "output_type": "execute_result"
    },
    {
     "data": {
      "image/png": "[encoded data removed]",
      "text/plain": [
       "<matplotlib.figure.Figure at 0x7f9c949ceba8>"
      ]
     },
     "metadata": {
      "tags": []
     },
     "output_type": "display_data"
    }
   ],
   "source": [
    "# Plot số lượng từng bin\n",
    "train['distance_bins'].value_counts().sort_index().plot.bar()"
   ]
  },
  {
   "cell_type": "code",
   "execution_count": 0,
   "metadata": {
    "colab": {
     "base_uri": "https://localhost:8080/",
     "height": 458
    },
    "colab_type": "code",
    "id": "7gZUO57RSF6w",
    "outputId": "c8e30ce2-0ad9-4847-dd69-32871d791a7c"
   },
   "outputs": [
    {
     "data": {
      "text/plain": [
       "<seaborn.axisgrid.FacetGrid at 0x7f9c94246748>"
      ]
     },
     "execution_count": 97,
     "metadata": {
      "tags": []
     },
     "output_type": "execute_result"
    },
    {
     "data": {
      "image/png": "[encoded data removed]",
      "text/plain": [
       "<matplotlib.figure.Figure at 0x7f9c94597f98>"
      ]
     },
     "metadata": {
      "tags": []
     },
     "output_type": "display_data"
    }
   ],
   "source": [
    "# Kiếm tra phân phối `H_Distance` từng bin\n",
    "g = sns.FacetGrid(train, col = 'distance_bins', col_wrap = 2, sharex = False, sharey = False)\n",
    "g.map(plt.hist, 'H_Distance') "
   ]
  },
  {
   "cell_type": "markdown",
   "metadata": {
    "colab_type": "text",
    "id": "-GjVWfh4QLst"
   },
   "source": [
    "**Nhận xét:** Có thể thấy rằng khoảng cách 0-10 chiếm phần lớn trong dataset và right skewed"
   ]
  },
  {
   "cell_type": "code",
   "execution_count": 0,
   "metadata": {
    "colab": {
     "base_uri": "https://localhost:8080/",
     "height": 298
    },
    "colab_type": "code",
    "id": "TtlHKJYixqNm",
    "outputId": "d8f6739a-d86e-40cf-c50d-88f30db9d960"
   },
   "outputs": [
    {
     "data": {
      "text/plain": [
       "<matplotlib.axes._subplots.AxesSubplot at 0x7f9c941476d8>"
      ]
     },
     "execution_count": 98,
     "metadata": {
      "tags": []
     },
     "output_type": "execute_result"
    },
    {
     "data": {
      "image/png": "[encoded data removed]",
      "text/plain": [
       "<matplotlib.figure.Figure at 0x7f9c942465c0>"
      ]
     },
     "metadata": {
      "tags": []
     },
     "output_type": "display_data"
    }
   ],
   "source": [
    "# Kiểm tra mối quan hệ với `fare_amount`\n",
    "train.plot.scatter(x = 'H_Distance', y = 'fare_amount')"
   ]
  },
  {
   "cell_type": "markdown",
   "metadata": {
    "colab_type": "text",
    "id": "oejuIOh7Qceg"
   },
   "source": [
    "**Nhận xét:** Nhìn vào figure này thì khó có thể đánh giá liên hệ nào giữa 2 biến `fare_amount` và `H_Distance`. Có những khoảng cách rất nhỏ nhưng giá tiền rất cao, khoảng cách rất lớn (>2000km) nhưng giá tiền lại rất nhỏ. Do đó cần phải xử lý những data thuộc outliers như này"
   ]
  },
  {
   "cell_type": "code",
   "execution_count": 0,
   "metadata": {
    "colab": {
     "base_uri": "https://localhost:8080/",
     "height": 458
    },
    "colab_type": "code",
    "id": "LXZpGH98ExJD",
    "outputId": "f619342c-b050-415c-d468-14072ede5733"
   },
   "outputs": [
    {
     "data": {
      "text/plain": [
       "<seaborn.axisgrid.FacetGrid at 0x7f9c93922c88>"
      ]
     },
     "execution_count": 99,
     "metadata": {
      "tags": []
     },
     "output_type": "execute_result"
    },
    {
     "data": {
      "image/png": "[encoded data removed]",
      "text/plain": [
       "<matplotlib.figure.Figure at 0x7f9c94242828>"
      ]
     },
     "metadata": {
      "tags": []
     },
     "output_type": "display_data"
    }
   ],
   "source": [
    "# Plot `fare_amount` và `H_Distance` theo `distance_bins`\n",
    "g = sns.FacetGrid(train, col = 'distance_bins', col_wrap = 2, sharex = False, sharey = False)\n",
    "g.map(plt.scatter, 'H_Distance', 'fare_amount') "
   ]
  },
  {
   "cell_type": "code",
   "execution_count": 0,
   "metadata": {
    "colab": {
     "base_uri": "https://localhost:8080/",
     "height": 352
    },
    "colab_type": "code",
    "id": "MULeSQHWxqHt",
    "outputId": "fc16f3fe-cef4-42f0-cd9c-cc07a8c1744f"
   },
   "outputs": [
    {
     "name": "stderr",
     "output_type": "stream",
     "text": [
      "/usr/local/lib/python3.6/dist-packages/seaborn/categorical.py:454: FutureWarning: remove_na is deprecated and is a private function. Do not use.\n",
      "  box_data = remove_na(group_data)\n"
     ]
    },
    {
     "data": {
      "text/plain": [
       "<matplotlib.axes._subplots.AxesSubplot at 0x7f9c93f2e6a0>"
      ]
     },
     "execution_count": 100,
     "metadata": {
      "tags": []
     },
     "output_type": "execute_result"
    },
    {
     "data": {
      "image/png": "[encoded data removed]",
      "text/plain": [
       "<matplotlib.figure.Figure at 0x7f9c8c884240>"
      ]
     },
     "metadata": {
      "tags": []
     },
     "output_type": "display_data"
    }
   ],
   "source": [
    "# Plot distribution của `fare_amount` theo `distance_bins`\n",
    "sns.boxplot(x = 'distance_bins', y = 'fare_amount', data = train)"
   ]
  },
  {
   "cell_type": "markdown",
   "metadata": {
    "colab_type": "text",
    "id": "tZawFIGURQ3s"
   },
   "source": [
    "**Nhận xét:** Thấy rằng bin 11-50km có giá cước taxi có xu hướng cao hơn so với các bin khác và mối quan hệ với `H_Distance` dạng tuyến tính (nhưng high variance). Bin >50 có ít data nhất và dường như không có liên hệ với `fare_amount`"
   ]
  },
  {
   "cell_type": "markdown",
   "metadata": {
    "colab_type": "text",
    "id": "WHF7ob3lSHLY"
   },
   "source": [
    "**Check giá taxi tại New York City:** https://www.taxi-calculator.com/taxi-fare-new-york-city/259\n",
    "\n",
    "- Từ thứ Hai đến thứ Sáu (6h sáng đến 20h tối): Giá mở cửa 2.5 USD, 1.56USD/km, waiting time: 30 USD/h\n",
    "- Từ thứ Hai đến thứ Sáu (từ 20h tối đến 6h sáng) và Cuối tuần: Giá mở cửa 3.0 USD, 1.56 USD/km, waiting time: 30 USD/h."
   ]
  },
  {
   "cell_type": "code",
   "execution_count": 0,
   "metadata": {
    "colab": {
     "base_uri": "https://localhost:8080/",
     "height": 34
    },
    "colab_type": "code",
    "id": "ynFDgyFHAzBq",
    "outputId": "9b46c5b1-ba60-4822-a666-6ae4aaf80e23"
   },
   "outputs": [
    {
     "data": {
      "text/plain": [
       "6"
      ]
     },
     "execution_count": 101,
     "metadata": {
      "tags": []
     },
     "output_type": "execute_result"
    }
   ],
   "source": [
    "# Đếm số lượng khoảng cách = 0km và giá cước nhỏ hơn giá mở cửa, đây là những data không thể giải thích được\n",
    "train.loc[(train['distance_bins'] == '0') & (train['fare_amount'] < 2.5)].shape[0]"
   ]
  },
  {
   "cell_type": "code",
   "execution_count": 0,
   "metadata": {
    "colab": {},
    "colab_type": "code",
    "id": "-KEdqi3uAy8p"
   },
   "outputs": [],
   "source": [
    "# Drop obs co khoảng cách = 0 nhưng fare < giá mở cửa\n",
    "train = train.drop(train.loc[(train['H_Distance'] == 0) & (train['fare_amount'] < 2.5)].index, axis = 0)"
   ]
  },
  {
   "cell_type": "code",
   "execution_count": 0,
   "metadata": {
    "colab": {
     "base_uri": "https://localhost:8080/",
     "height": 34
    },
    "colab_type": "code",
    "id": "bg3rqt76Tu4N",
    "outputId": "c2c3ff8f-51bd-411b-9686-645fc45c0916"
   },
   "outputs": [
    {
     "data": {
      "text/plain": [
       "27159"
      ]
     },
     "execution_count": 103,
     "metadata": {
      "tags": []
     },
     "output_type": "execute_result"
    }
   ],
   "source": [
    "# Đếm số lượng obs có khoảng cách = 0 nhưng fare > 3.0 USD\n",
    "train.loc[(train['H_Distance'] == 0) & (train['fare_amount'] > 3.0)].shape[0]"
   ]
  },
  {
   "cell_type": "code",
   "execution_count": 0,
   "metadata": {
    "colab": {},
    "colab_type": "code",
    "id": "jY-Ly94vG0va"
   },
   "outputs": [],
   "source": [
    "# Obs có khoảng cách = 0 nhưng fare > 3.0 USD chiếm số lượng rất lớn, những obs này có thể hiểu là trường hợp taxi chờ\n",
    "# khách nhưng rồi khách hủy chuyến nên vẫn phải xuất hiện tiền phải trả. Nếu cứ để những obs này thì data trở nên không\n",
    "# có cấu trúc bởi những trường hợp đặc biệt. Do đó ta nên impute chúng theo công thức liên hệ giá tiền và khoảng cách\n",
    "index = train.loc[(train['H_Distance'] == 0) & (train['fare_amount'] > 3.0)].index\n",
    "train['H_Distance'].loc[index] = train['fare_amount'].loc[index].apply(lambda x: (x - 2.5)/1.56)"
   ]
  },
  {
   "cell_type": "code",
   "execution_count": 0,
   "metadata": {
    "colab": {
     "base_uri": "https://localhost:8080/",
     "height": 34
    },
    "colab_type": "code",
    "id": "JpbNQ9uTUT4L",
    "outputId": "495eeb6d-dabf-4125-dd73-d325442d07b6"
   },
   "outputs": [
    {
     "data": {
      "text/plain": [
       "1929"
      ]
     },
     "execution_count": 106,
     "metadata": {
      "tags": []
     },
     "output_type": "execute_result"
    }
   ],
   "source": [
    "# Đếm số lượng obs có khoảng cách > 300km\n",
    "train.loc[train['H_Distance'] > 300].shape[0]"
   ]
  },
  {
   "cell_type": "code",
   "execution_count": 0,
   "metadata": {
    "colab": {},
    "colab_type": "code",
    "id": "l_3moCvdVk7V"
   },
   "outputs": [],
   "source": [
    "# Những data có khoảng cách > 300km ta cũng thực hiện imputer theo công thức\n",
    "index = train.loc[train['H_Distance'] > 300].index\n",
    "train['H_Distance'].loc[index] = train['fare_amount'].loc[index].apply(lambda x: np.maximum(0, (x - 2.5)/1.56))"
   ]
  },
  {
   "cell_type": "code",
   "execution_count": 0,
   "metadata": {
    "colab": {
     "base_uri": "https://localhost:8080/",
     "height": 34
    },
    "colab_type": "code",
    "id": "pRv779joUvj4",
    "outputId": "e49e83ca-a3d2-44e4-9fe4-9fb9319991ff"
   },
   "outputs": [
    {
     "data": {
      "text/plain": [
       "25"
      ]
     },
     "execution_count": 108,
     "metadata": {
      "tags": []
     },
     "output_type": "execute_result"
    }
   ],
   "source": [
    "# Đếm số lượng obs giá cước = 0\n",
    "train.loc[train['fare_amount'] == 0].shape[0]"
   ]
  },
  {
   "cell_type": "code",
   "execution_count": 0,
   "metadata": {
    "colab": {},
    "colab_type": "code",
    "id": "UbzcOVj5VlBL"
   },
   "outputs": [],
   "source": [
    "# Thực hiện impute chúng theo công thức\n",
    "index = train.loc[train['fare_amount'] == 0].index\n",
    "train['fare_amount'].loc[index] = train['H_Distance'].loc[index].apply(lambda x: (x*1.56 + 2.5))"
   ]
  },
  {
   "cell_type": "code",
   "execution_count": 0,
   "metadata": {
    "colab": {
     "base_uri": "https://localhost:8080/",
     "height": 34
    },
    "colab_type": "code",
    "id": "GVixNm9oU_-y",
    "outputId": "923dc089-b25c-4a20-adf5-c0e952b6b976"
   },
   "outputs": [
    {
     "data": {
      "text/plain": [
       "5"
      ]
     },
     "execution_count": 112,
     "metadata": {
      "tags": []
     },
     "output_type": "execute_result"
    }
   ],
   "source": [
    "# Đếm số lượng obs có khoảng cách < 10km nhưng giá cước > 300 USD\n",
    "train.loc[(train['H_Distance'] < 10) & (train['fare_amount'] > 300)].shape[0]"
   ]
  },
  {
   "cell_type": "code",
   "execution_count": 0,
   "metadata": {
    "colab": {},
    "colab_type": "code",
    "id": "_2vEmKr0zxQ3"
   },
   "outputs": [],
   "source": [
    "# Drop obs có khoảng cách < 10km nhưng giá cước > 300 USD\n",
    "train = train.drop(train.loc[(train['H_Distance'] < 10) & (train['fare_amount'] > 300)].index, axis = 0)"
   ]
  },
  {
   "cell_type": "code",
   "execution_count": 0,
   "metadata": {
    "colab": {},
    "colab_type": "code",
    "id": "zMyslkSmrlUF"
   },
   "outputs": [],
   "source": [
    "# Kiểm tra lại dataset sau khi đã xử lý về `H_Distance` và `fare_amount`\n",
    "train['distance_bins'] = train['H_Distance'].apply(lambda x: '0' if x == 0 else ('0-10' if x <= 10 else ('11-50' if x <= 50 else ('>50'))))"
   ]
  },
  {
   "cell_type": "code",
   "execution_count": 0,
   "metadata": {
    "colab": {
     "base_uri": "https://localhost:8080/",
     "height": 102
    },
    "colab_type": "code",
    "id": "WWQFMo7wrlWt",
    "outputId": "1eaab97b-2229-4f37-f54a-dd363297d984"
   },
   "outputs": [
    {
     "data": {
      "text/plain": [
       ">50         522\n",
       "0          1507\n",
       "11-50     52760\n",
       "0-10     945111\n",
       "Name: distance_bins, dtype: int64"
      ]
     },
     "execution_count": 115,
     "metadata": {
      "tags": []
     },
     "output_type": "execute_result"
    }
   ],
   "source": [
    "train['distance_bins'].value_counts().sort_values()"
   ]
  },
  {
   "cell_type": "code",
   "execution_count": 0,
   "metadata": {
    "colab": {
     "base_uri": "https://localhost:8080/",
     "height": 458
    },
    "colab_type": "code",
    "id": "yDiF4iL8rlZf",
    "outputId": "54265b64-af73-4228-c9a6-108cb7c89ad8"
   },
   "outputs": [
    {
     "data": {
      "text/plain": [
       "<seaborn.axisgrid.FacetGrid at 0x7f9c93d8f0b8>"
      ]
     },
     "execution_count": 116,
     "metadata": {
      "tags": []
     },
     "output_type": "execute_result"
    },
    {
     "data": {
      "image/png": "[encoded data removed]",
      "text/plain": [
       "<matplotlib.figure.Figure at 0x7f9c93d8ff28>"
      ]
     },
     "metadata": {
      "tags": []
     },
     "output_type": "display_data"
    }
   ],
   "source": [
    "# Kiểm tra mối quan hệ giữa `H_Distance` và `fare_amount`\n",
    "g = sns.FacetGrid(train, col = 'distance_bins', col_wrap = 2, sharex = False, sharey = False)\n",
    "g.map(plt.scatter, 'H_Distance', 'fare_amount') "
   ]
  },
  {
   "cell_type": "code",
   "execution_count": 0,
   "metadata": {
    "colab": {
     "base_uri": "https://localhost:8080/",
     "height": 298
    },
    "colab_type": "code",
    "id": "5G3xKO0gt2E3",
    "outputId": "21fd472a-68d4-43a4-b3fc-1e9b90d5f1e6"
   },
   "outputs": [
    {
     "data": {
      "text/plain": [
       "<matplotlib.axes._subplots.AxesSubplot at 0x7f9c93d8f240>"
      ]
     },
     "execution_count": 117,
     "metadata": {
      "tags": []
     },
     "output_type": "execute_result"
    },
    {
     "data": {
      "image/png": "[encoded data removed]",
      "text/plain": [
       "<matplotlib.figure.Figure at 0x7f9c93c9d9e8>"
      ]
     },
     "metadata": {
      "tags": []
     },
     "output_type": "display_data"
    }
   ],
   "source": [
    "train.plot.scatter(x = 'H_Distance', y = 'fare_amount')"
   ]
  },
  {
   "cell_type": "markdown",
   "metadata": {
    "colab_type": "text",
    "id": "NfeQnFylV6ff"
   },
   "source": [
    "**Nhận xét:** Mối quan hệ giữa `H_Distance` và `fare_amount` đã trở nên khá dễ dàng giải thích, phù hợp để đưa vào các model"
   ]
  },
  {
   "cell_type": "markdown",
   "metadata": {
    "colab_type": "text",
    "id": "HEDNkaEEv8lx"
   },
   "source": [
    "# 3. Train trên một số model"
   ]
  },
  {
   "cell_type": "code",
   "execution_count": 0,
   "metadata": {
    "colab": {},
    "colab_type": "code",
    "id": "oFb3yznCwZGc"
   },
   "outputs": [],
   "source": [
    "# Feature engineering: chọn toàn bộ các numeric variables để đưa vào model\n",
    "train = train.loc[:, ['fare_amount', 'pickup_longitude', 'pickup_latitude', 'dropoff_longitude', 'dropoff_latitude',\n",
    "                   'passenger_count', 'H_Distance', 'Year', 'Month', 'Date', 'Day of Week', 'Hour']]"
   ]
  },
  {
   "cell_type": "code",
   "execution_count": 0,
   "metadata": {
    "colab": {},
    "colab_type": "code",
    "id": "Uj9v3TqNwZCs"
   },
   "outputs": [],
   "source": [
    "# Chia 10.000 obs làm tập validation, còn lại đưa vào training\n",
    "X_train, X_val, Y_train, Y_val = train_test_split(train.iloc[:, 1:], train.iloc[:, 0], test_size = 10000, random_state = 167)"
   ]
  },
  {
   "cell_type": "code",
   "execution_count": 0,
   "metadata": {
    "colab": {},
    "colab_type": "code",
    "id": "FWiuSrFpytLk"
   },
   "outputs": [],
   "source": [
    "# Normalization: sử dụng MinMaxScaler đưa data về 0-1\n",
    "scaler = MinMaxScaler()"
   ]
  },
  {
   "cell_type": "code",
   "execution_count": 0,
   "metadata": {
    "colab": {},
    "colab_type": "code",
    "id": "jGgAzTqUytEV"
   },
   "outputs": [],
   "source": [
    "X_train = scaler.fit_transform(X_train)"
   ]
  },
  {
   "cell_type": "code",
   "execution_count": 0,
   "metadata": {
    "colab": {},
    "colab_type": "code",
    "id": "EzJk21K8ys_n"
   },
   "outputs": [],
   "source": [
    "X_val = scaler.transform(X_val)"
   ]
  },
  {
   "cell_type": "markdown",
   "metadata": {
    "colab_type": "text",
    "id": "O3pDnp2AwGlw"
   },
   "source": [
    "## 3.1. Linear Regression"
   ]
  },
  {
   "cell_type": "code",
   "execution_count": 0,
   "metadata": {
    "colab": {},
    "colab_type": "code",
    "id": "jsY8cxpQwA5g"
   },
   "outputs": [],
   "source": [
    "LiR = LinearRegression()"
   ]
  },
  {
   "cell_type": "code",
   "execution_count": 0,
   "metadata": {
    "colab": {
     "base_uri": "https://localhost:8080/",
     "height": 34
    },
    "colab_type": "code",
    "id": "OQo5MAajwA2t",
    "outputId": "81bb4754-d180-441c-c63f-ca2c45c04712"
   },
   "outputs": [
    {
     "data": {
      "text/plain": [
       "LinearRegression(copy_X=True, fit_intercept=True, n_jobs=1, normalize=False)"
      ]
     },
     "execution_count": 24,
     "metadata": {
      "tags": []
     },
     "output_type": "execute_result"
    }
   ],
   "source": [
    "LiR.fit(X_train, Y_train)"
   ]
  },
  {
   "cell_type": "code",
   "execution_count": 0,
   "metadata": {
    "colab": {},
    "colab_type": "code",
    "id": "VSfKPf8BwAzf"
   },
   "outputs": [],
   "source": [
    "Y_val_pred = LiR.predict(X_val)"
   ]
  },
  {
   "cell_type": "code",
   "execution_count": 0,
   "metadata": {
    "colab": {
     "base_uri": "https://localhost:8080/",
     "height": 34
    },
    "colab_type": "code",
    "id": "YZwO707NwAv9",
    "outputId": "c908a27a-98e7-4f0d-8ecf-d34be23c122f"
   },
   "outputs": [
    {
     "name": "stdout",
     "output_type": "stream",
     "text": [
      "RMSE on validation dataset =  5.834422948737102\n"
     ]
    }
   ],
   "source": [
    "print('RMSE on validation dataset = ', np.sqrt(mean_squared_error(Y_val, Y_val_pred)))"
   ]
  },
  {
   "cell_type": "markdown",
   "metadata": {
    "colab_type": "text",
    "id": "8IrFBkVi5MIE"
   },
   "source": [
    "## 3.2. Ridge Regression"
   ]
  },
  {
   "cell_type": "code",
   "execution_count": 0,
   "metadata": {
    "colab": {},
    "colab_type": "code",
    "id": "tg5m37YgwAsJ"
   },
   "outputs": [],
   "source": [
    "params = {'alpha': [1, 10, 20, 50, 80, 100]}"
   ]
  },
  {
   "cell_type": "code",
   "execution_count": 0,
   "metadata": {
    "colab": {},
    "colab_type": "code",
    "id": "m0RBmxs37Eqg"
   },
   "outputs": [],
   "source": [
    "ridge_model = Ridge()"
   ]
  },
  {
   "cell_type": "code",
   "execution_count": 0,
   "metadata": {
    "colab": {},
    "colab_type": "code",
    "id": "mC2159G05wEv"
   },
   "outputs": [],
   "source": [
    "clf = GridSearchCV(ridge_model, param_grid = params, cv = 5, scoring = 'neg_mean_squared_error')"
   ]
  },
  {
   "cell_type": "code",
   "execution_count": 0,
   "metadata": {
    "colab": {
     "base_uri": "https://localhost:8080/",
     "height": 136
    },
    "colab_type": "code",
    "id": "wnRT0QQ45wCB",
    "outputId": "30cfeaec-7b0c-4691-b943-cf782ee7f5d0"
   },
   "outputs": [
    {
     "data": {
      "text/plain": [
       "GridSearchCV(cv=5, error_score='raise',\n",
       "       estimator=Ridge(alpha=1.0, copy_X=True, fit_intercept=True, max_iter=None,\n",
       "   normalize=False, random_state=None, solver='auto', tol=0.001),\n",
       "       fit_params=None, iid=True, n_jobs=1,\n",
       "       param_grid={'alpha': [1, 10, 20, 50, 80, 100]},\n",
       "       pre_dispatch='2*n_jobs', refit=True, return_train_score='warn',\n",
       "       scoring='neg_mean_squared_error', verbose=0)"
      ]
     },
     "execution_count": 51,
     "metadata": {
      "tags": []
     },
     "output_type": "execute_result"
    }
   ],
   "source": [
    "clf.fit(X_train, Y_train)"
   ]
  },
  {
   "cell_type": "code",
   "execution_count": 0,
   "metadata": {
    "colab": {
     "base_uri": "https://localhost:8080/",
     "height": 34
    },
    "colab_type": "code",
    "id": "xDLf2hbk5v9j",
    "outputId": "00f67d0b-71ad-4028-c5c9-f295b1e035da"
   },
   "outputs": [
    {
     "data": {
      "text/plain": [
       "{'alpha': 1}"
      ]
     },
     "execution_count": 52,
     "metadata": {
      "tags": []
     },
     "output_type": "execute_result"
    }
   ],
   "source": [
    "clf.best_params_"
   ]
  },
  {
   "cell_type": "code",
   "execution_count": 0,
   "metadata": {
    "colab": {
     "base_uri": "https://localhost:8080/",
     "height": 34
    },
    "colab_type": "code",
    "id": "hbGtjX_y5v4x",
    "outputId": "e87ccc57-0384-47c8-b79d-69f55b3140df"
   },
   "outputs": [
    {
     "data": {
      "text/plain": [
       "-37.36451046979824"
      ]
     },
     "execution_count": 53,
     "metadata": {
      "tags": []
     },
     "output_type": "execute_result"
    }
   ],
   "source": [
    "clf.best_score_"
   ]
  },
  {
   "cell_type": "code",
   "execution_count": 0,
   "metadata": {
    "colab": {
     "base_uri": "https://localhost:8080/",
     "height": 51
    },
    "colab_type": "code",
    "id": "fVvgn_pRwAoz",
    "outputId": "524c5e9e-cdd4-4a22-9df0-4d5b5e22856b"
   },
   "outputs": [
    {
     "data": {
      "text/plain": [
       "Ridge(alpha=1, copy_X=True, fit_intercept=True, max_iter=None,\n",
       "   normalize=False, random_state=None, solver='auto', tol=0.001)"
      ]
     },
     "execution_count": 54,
     "metadata": {
      "tags": []
     },
     "output_type": "execute_result"
    }
   ],
   "source": [
    "ridge_model = Ridge(alpha = 1)\n",
    "ridge_model.fit(X_train, Y_train)"
   ]
  },
  {
   "cell_type": "code",
   "execution_count": 0,
   "metadata": {
    "colab": {},
    "colab_type": "code",
    "id": "t0rjW7T78G8Z"
   },
   "outputs": [],
   "source": [
    "Y_val_pred = ridge_model.predict(X_val)"
   ]
  },
  {
   "cell_type": "code",
   "execution_count": 0,
   "metadata": {
    "colab": {
     "base_uri": "https://localhost:8080/",
     "height": 34
    },
    "colab_type": "code",
    "id": "jSZ8C0os8HNK",
    "outputId": "05f1807f-b11e-446b-8a8f-0a45e4e27330"
   },
   "outputs": [
    {
     "name": "stdout",
     "output_type": "stream",
     "text": [
      "RMSE on validation dataset =  5.838069731959822\n"
     ]
    }
   ],
   "source": [
    "print('RMSE on validation dataset = ', np.sqrt(mean_squared_error(Y_val, Y_val_pred)))"
   ]
  },
  {
   "cell_type": "markdown",
   "metadata": {
    "colab_type": "text",
    "id": "--FdDNh78po3"
   },
   "source": [
    "## 3.3. Lasso"
   ]
  },
  {
   "cell_type": "code",
   "execution_count": 0,
   "metadata": {
    "colab": {},
    "colab_type": "code",
    "id": "BtaTR6WW8sGe"
   },
   "outputs": [],
   "source": [
    "params = {'alpha': [1, 10, 20, 50, 80, 100]}"
   ]
  },
  {
   "cell_type": "code",
   "execution_count": 0,
   "metadata": {
    "colab": {},
    "colab_type": "code",
    "id": "z-XOtXjn8sDv"
   },
   "outputs": [],
   "source": [
    "lasso_model = Lasso()"
   ]
  },
  {
   "cell_type": "code",
   "execution_count": 0,
   "metadata": {
    "colab": {},
    "colab_type": "code",
    "id": "H0vHhzOu8sAb"
   },
   "outputs": [],
   "source": [
    "clf = GridSearchCV(lasso_model, param_grid = params, cv = 5, scoring = 'neg_mean_squared_error')"
   ]
  },
  {
   "cell_type": "code",
   "execution_count": 0,
   "metadata": {
    "colab": {
     "base_uri": "https://localhost:8080/",
     "height": 153
    },
    "colab_type": "code",
    "id": "LpSkwSK18r9c",
    "outputId": "3412c6e1-698b-42a0-a03b-875a15165573"
   },
   "outputs": [
    {
     "data": {
      "text/plain": [
       "GridSearchCV(cv=5, error_score='raise',\n",
       "       estimator=Lasso(alpha=1.0, copy_X=True, fit_intercept=True, max_iter=1000,\n",
       "   normalize=False, positive=False, precompute=False, random_state=None,\n",
       "   selection='cyclic', tol=0.0001, warm_start=False),\n",
       "       fit_params=None, iid=True, n_jobs=1,\n",
       "       param_grid={'alpha': [1, 10, 20, 50, 80, 100]},\n",
       "       pre_dispatch='2*n_jobs', refit=True, return_train_score='warn',\n",
       "       scoring='neg_mean_squared_error', verbose=0)"
      ]
     },
     "execution_count": 61,
     "metadata": {
      "tags": []
     },
     "output_type": "execute_result"
    }
   ],
   "source": [
    "clf.fit(X_train, Y_train)"
   ]
  },
  {
   "cell_type": "code",
   "execution_count": 0,
   "metadata": {
    "colab": {
     "base_uri": "https://localhost:8080/",
     "height": 34
    },
    "colab_type": "code",
    "id": "RoGKF46B8-HU",
    "outputId": "df59c7d5-6157-4611-95b2-980354451a5e"
   },
   "outputs": [
    {
     "data": {
      "text/plain": [
       "{'alpha': 1}"
      ]
     },
     "execution_count": 62,
     "metadata": {
      "tags": []
     },
     "output_type": "execute_result"
    }
   ],
   "source": [
    "clf.best_params_"
   ]
  },
  {
   "cell_type": "code",
   "execution_count": 0,
   "metadata": {
    "colab": {},
    "colab_type": "code",
    "id": "EsrYLFG68-R_"
   },
   "outputs": [],
   "source": [
    "lasso_model = Lasso(alpha = 1)"
   ]
  },
  {
   "cell_type": "code",
   "execution_count": 0,
   "metadata": {
    "colab": {
     "base_uri": "https://localhost:8080/",
     "height": 68
    },
    "colab_type": "code",
    "id": "rkEKOUxf8r6A",
    "outputId": "87ede182-197d-4a9d-cdf0-bf5a276c49da"
   },
   "outputs": [
    {
     "data": {
      "text/plain": [
       "Lasso(alpha=1, copy_X=True, fit_intercept=True, max_iter=1000,\n",
       "   normalize=False, positive=False, precompute=False, random_state=None,\n",
       "   selection='cyclic', tol=0.0001, warm_start=False)"
      ]
     },
     "execution_count": 64,
     "metadata": {
      "tags": []
     },
     "output_type": "execute_result"
    }
   ],
   "source": [
    "lasso_model.fit(X_train, Y_train)"
   ]
  },
  {
   "cell_type": "code",
   "execution_count": 0,
   "metadata": {
    "colab": {},
    "colab_type": "code",
    "id": "Kp8ROLsR9J4g"
   },
   "outputs": [],
   "source": [
    "Y_val_pred = lasso_model.predict(X_val)"
   ]
  },
  {
   "cell_type": "code",
   "execution_count": 0,
   "metadata": {
    "colab": {
     "base_uri": "https://localhost:8080/",
     "height": 34
    },
    "colab_type": "code",
    "id": "h0_9lYbB9KDD",
    "outputId": "4b60af1e-4672-478c-a84a-634cf443fc77"
   },
   "outputs": [
    {
     "name": "stdout",
     "output_type": "stream",
     "text": [
      "RMSE on validation dataset =  9.65605123099817\n"
     ]
    }
   ],
   "source": [
    "print('RMSE on validation dataset = ', np.sqrt(mean_squared_error(Y_val, Y_val_pred)))"
   ]
  },
  {
   "cell_type": "markdown",
   "metadata": {
    "colab_type": "text",
    "id": "SsZlCSSL_z3h"
   },
   "source": [
    "## 3.4. Decision Tree"
   ]
  },
  {
   "cell_type": "code",
   "execution_count": 0,
   "metadata": {
    "colab": {},
    "colab_type": "code",
    "id": "SsXjn_pq_4IN"
   },
   "outputs": [],
   "source": [
    "params = {'max_depth': [1, 5, 10, 20, 50]}"
   ]
  },
  {
   "cell_type": "code",
   "execution_count": 0,
   "metadata": {
    "colab": {},
    "colab_type": "code",
    "id": "w2-YA7OD_4Dl"
   },
   "outputs": [],
   "source": [
    "tree = DecisionTreeRegressor()"
   ]
  },
  {
   "cell_type": "code",
   "execution_count": 0,
   "metadata": {
    "colab": {},
    "colab_type": "code",
    "id": "7nWEUzUm_4AU"
   },
   "outputs": [],
   "source": [
    "clf = GridSearchCV(tree, param_grid = params, cv = 5, scoring = 'neg_mean_squared_error')"
   ]
  },
  {
   "cell_type": "code",
   "execution_count": 0,
   "metadata": {
    "colab": {
     "base_uri": "https://localhost:8080/",
     "height": 187
    },
    "colab_type": "code",
    "id": "MUll4zy__38q",
    "outputId": "82093d44-0cd8-410a-8ece-f8eadda4c9a2"
   },
   "outputs": [
    {
     "data": {
      "text/plain": [
       "GridSearchCV(cv=5, error_score='raise',\n",
       "       estimator=DecisionTreeRegressor(criterion='mse', max_depth=None, max_features=None,\n",
       "           max_leaf_nodes=None, min_impurity_decrease=0.0,\n",
       "           min_impurity_split=None, min_samples_leaf=1,\n",
       "           min_samples_split=2, min_weight_fraction_leaf=0.0,\n",
       "           presort=False, random_state=None, splitter='best'),\n",
       "       fit_params=None, iid=True, n_jobs=1,\n",
       "       param_grid={'max_depth': [1, 5, 10, 20, 50]},\n",
       "       pre_dispatch='2*n_jobs', refit=True, return_train_score='warn',\n",
       "       scoring='neg_mean_squared_error', verbose=0)"
      ]
     },
     "execution_count": 85,
     "metadata": {
      "tags": []
     },
     "output_type": "execute_result"
    }
   ],
   "source": [
    "clf.fit(X_train, Y_train)"
   ]
  },
  {
   "cell_type": "code",
   "execution_count": 0,
   "metadata": {
    "colab": {
     "base_uri": "https://localhost:8080/",
     "height": 34
    },
    "colab_type": "code",
    "id": "45coSBVZ_349",
    "outputId": "7dcdf82e-c8c4-414e-a623-1ffcc527febc"
   },
   "outputs": [
    {
     "data": {
      "text/plain": [
       "{'max_depth': 10}"
      ]
     },
     "execution_count": 86,
     "metadata": {
      "tags": []
     },
     "output_type": "execute_result"
    }
   ],
   "source": [
    "clf.best_params_"
   ]
  },
  {
   "cell_type": "code",
   "execution_count": 0,
   "metadata": {
    "colab": {},
    "colab_type": "code",
    "id": "b8lzM8FC_309"
   },
   "outputs": [],
   "source": [
    "tree = DecisionTreeRegressor(max_depth = 10)"
   ]
  },
  {
   "cell_type": "code",
   "execution_count": 0,
   "metadata": {
    "colab": {
     "base_uri": "https://localhost:8080/",
     "height": 102
    },
    "colab_type": "code",
    "id": "4AUcNF-qN8OZ",
    "outputId": "a385d8df-c27c-4cca-b229-57ef06cf390c"
   },
   "outputs": [
    {
     "data": {
      "text/plain": [
       "DecisionTreeRegressor(criterion='mse', max_depth=10, max_features=None,\n",
       "           max_leaf_nodes=None, min_impurity_decrease=0.0,\n",
       "           min_impurity_split=None, min_samples_leaf=1,\n",
       "           min_samples_split=2, min_weight_fraction_leaf=0.0,\n",
       "           presort=False, random_state=None, splitter='best')"
      ]
     },
     "execution_count": 88,
     "metadata": {
      "tags": []
     },
     "output_type": "execute_result"
    }
   ],
   "source": [
    "tree.fit(X_train, Y_train)"
   ]
  },
  {
   "cell_type": "code",
   "execution_count": 0,
   "metadata": {
    "colab": {},
    "colab_type": "code",
    "id": "FAPFpLejN8K7"
   },
   "outputs": [],
   "source": [
    "Y_val_pred = tree.predict(X_val)"
   ]
  },
  {
   "cell_type": "code",
   "execution_count": 0,
   "metadata": {
    "colab": {
     "base_uri": "https://localhost:8080/",
     "height": 34
    },
    "colab_type": "code",
    "id": "i0tNiX6sN8HK",
    "outputId": "425286c3-cce7-42d7-d978-1bc13ef23750"
   },
   "outputs": [
    {
     "name": "stdout",
     "output_type": "stream",
     "text": [
      "RMSE on validation dataset =  3.6580706345721943\n"
     ]
    }
   ],
   "source": [
    "print('RMSE on validation dataset = ', np.sqrt(mean_squared_error(Y_val, Y_val_pred)))"
   ]
  },
  {
   "cell_type": "markdown",
   "metadata": {
    "colab_type": "text",
    "id": "YiT_ShYjxE3i"
   },
   "source": [
    "## 3.5. Random Forest"
   ]
  },
  {
   "cell_type": "code",
   "execution_count": 0,
   "metadata": {
    "colab": {},
    "colab_type": "code",
    "id": "xtHLgrCMxJX1"
   },
   "outputs": [],
   "source": [
    "params = {'max_depth': [1, 5, 10, 20, 50]}"
   ]
  },
  {
   "cell_type": "code",
   "execution_count": 0,
   "metadata": {
    "colab": {},
    "colab_type": "code",
    "id": "qqRtKbu7xJbq"
   },
   "outputs": [],
   "source": [
    "random_forest = RandomForestRegressor(max_features = 'sqrt')"
   ]
  },
  {
   "cell_type": "code",
   "execution_count": 0,
   "metadata": {
    "colab": {},
    "colab_type": "code",
    "id": "lYl87VadxJfQ"
   },
   "outputs": [],
   "source": [
    "clf = GridSearchCV(random_forest, param_grid = params, cv = 5, scoring = 'neg_mean_squared_error')"
   ]
  },
  {
   "cell_type": "code",
   "execution_count": 0,
   "metadata": {
    "colab": {
     "base_uri": "https://localhost:8080/",
     "height": 204
    },
    "colab_type": "code",
    "id": "H6UZNsj0xJps",
    "outputId": "0dbd0478-54c2-406b-a732-b62718a306d7"
   },
   "outputs": [
    {
     "data": {
      "text/plain": [
       "GridSearchCV(cv=5, error_score='raise',\n",
       "       estimator=RandomForestRegressor(bootstrap=True, criterion='mse', max_depth=None,\n",
       "           max_features='sqrt', max_leaf_nodes=None,\n",
       "           min_impurity_decrease=0.0, min_impurity_split=None,\n",
       "           min_samples_leaf=1, min_samples_split=2,\n",
       "           min_weight_fraction_leaf=0.0, n_estimators=10, n_jobs=1,\n",
       "           oob_score=False, random_state=None, verbose=0, warm_start=False),\n",
       "       fit_params=None, iid=True, n_jobs=1,\n",
       "       param_grid={'max_depth': [1, 5, 10, 20, 50]},\n",
       "       pre_dispatch='2*n_jobs', refit=True, return_train_score='warn',\n",
       "       scoring='neg_mean_squared_error', verbose=0)"
      ]
     },
     "execution_count": 27,
     "metadata": {
      "tags": []
     },
     "output_type": "execute_result"
    }
   ],
   "source": [
    "clf.fit(X_train, Y_train)"
   ]
  },
  {
   "cell_type": "code",
   "execution_count": 0,
   "metadata": {
    "colab": {
     "base_uri": "https://localhost:8080/",
     "height": 34
    },
    "colab_type": "code",
    "id": "4oOo3RZ1xJtt",
    "outputId": "20371f0c-f7b6-468d-ca05-3330d03161f0"
   },
   "outputs": [
    {
     "data": {
      "text/plain": [
       "{'max_depth': 20}"
      ]
     },
     "execution_count": 28,
     "metadata": {
      "tags": []
     },
     "output_type": "execute_result"
    }
   ],
   "source": [
    "clf.best_params_"
   ]
  },
  {
   "cell_type": "code",
   "execution_count": 0,
   "metadata": {
    "colab": {},
    "colab_type": "code",
    "id": "eyxUpM0uxJnu"
   },
   "outputs": [],
   "source": [
    "random_forest = RandomForestRegressor(max_features = 'sqrt', max_depth = 20)"
   ]
  },
  {
   "cell_type": "code",
   "execution_count": 0,
   "metadata": {
    "colab": {
     "base_uri": "https://localhost:8080/",
     "height": 119
    },
    "colab_type": "code",
    "id": "-Txq717jxJlY",
    "outputId": "bea31bf7-ecc2-4b30-e211-7e90c70b9d8c"
   },
   "outputs": [
    {
     "data": {
      "text/plain": [
       "RandomForestRegressor(bootstrap=True, criterion='mse', max_depth=20,\n",
       "           max_features='sqrt', max_leaf_nodes=None,\n",
       "           min_impurity_decrease=0.0, min_impurity_split=None,\n",
       "           min_samples_leaf=1, min_samples_split=2,\n",
       "           min_weight_fraction_leaf=0.0, n_estimators=10, n_jobs=1,\n",
       "           oob_score=False, random_state=None, verbose=0, warm_start=False)"
      ]
     },
     "execution_count": 30,
     "metadata": {
      "tags": []
     },
     "output_type": "execute_result"
    }
   ],
   "source": [
    "random_forest.fit(X_train, Y_train)"
   ]
  },
  {
   "cell_type": "code",
   "execution_count": 0,
   "metadata": {
    "colab": {},
    "colab_type": "code",
    "id": "D94zTDmj17mo"
   },
   "outputs": [],
   "source": [
    "Y_val_pred = random_forest.predict(X_val)"
   ]
  },
  {
   "cell_type": "code",
   "execution_count": 0,
   "metadata": {
    "colab": {
     "base_uri": "https://localhost:8080/",
     "height": 34
    },
    "colab_type": "code",
    "id": "i1aQusvW17qz",
    "outputId": "f4fc71fb-1d95-4da2-c2af-ad1185cedafc"
   },
   "outputs": [
    {
     "name": "stdout",
     "output_type": "stream",
     "text": [
      "RMSE on validation dataset =  3.5442676528522057\n"
     ]
    }
   ],
   "source": [
    "print('RMSE on validation dataset = ', np.sqrt(mean_squared_error(Y_val, Y_val_pred)))"
   ]
  },
  {
   "cell_type": "markdown",
   "metadata": {
    "colab_type": "text",
    "id": "Yu0B9R645ve3"
   },
   "source": [
    "## 3.6. XGBoost"
   ]
  },
  {
   "cell_type": "code",
   "execution_count": 0,
   "metadata": {
    "colab": {},
    "colab_type": "code",
    "id": "bkwGdj5a17us"
   },
   "outputs": [],
   "source": [
    "dtrain = xgb.DMatrix(X_train, label = Y_train)\n",
    "dval = xgb.DMatrix(X_val)\n",
    "dtest = xgb.DMatrix(X_test)"
   ]
  },
  {
   "cell_type": "code",
   "execution_count": 0,
   "metadata": {
    "colab": {},
    "colab_type": "code",
    "id": "LFKjpXmZ5yin"
   },
   "outputs": [],
   "source": [
    "params = {'max_depth':7,\n",
    "          'eta':1,\n",
    "          'silent':1,\n",
    "          'objective':'reg:linear',\n",
    "          'eval_metric':'rmse',\n",
    "          'learning_rate':0.05\n",
    "         }\n",
    "num_rounds = 100"
   ]
  },
  {
   "cell_type": "code",
   "execution_count": 0,
   "metadata": {
    "colab": {},
    "colab_type": "code",
    "id": "qcUQ-z4r5ymm"
   },
   "outputs": [],
   "source": [
    "xb = xgb.train(params, dtrain, num_rounds)"
   ]
  },
  {
   "cell_type": "code",
   "execution_count": 0,
   "metadata": {
    "colab": {},
    "colab_type": "code",
    "id": "RMctgpx35yv4"
   },
   "outputs": [],
   "source": [
    "Y_val_pred = xb.predict(dval)"
   ]
  },
  {
   "cell_type": "code",
   "execution_count": 0,
   "metadata": {
    "colab": {
     "base_uri": "https://localhost:8080/",
     "height": 34
    },
    "colab_type": "code",
    "id": "4zUa9Ynd5ytL",
    "outputId": "e28d11de-5f3e-4e41-aaf8-ae40c2ac54ea"
   },
   "outputs": [
    {
     "name": "stdout",
     "output_type": "stream",
     "text": [
      "RMSE on validation dataset =  3.574209087570469\n"
     ]
    }
   ],
   "source": [
    "print('RMSE on validation dataset = ', np.sqrt(mean_squared_error(Y_val, Y_val_pred)))"
   ]
  },
  {
   "cell_type": "markdown",
   "metadata": {
    "colab_type": "text",
    "id": "tye1cdIWHoi5"
   },
   "source": [
    "## 3.7. LightGBM"
   ]
  },
  {
   "cell_type": "code",
   "execution_count": 0,
   "metadata": {
    "colab": {},
    "colab_type": "code",
    "id": "K8RdxoXa5yqk"
   },
   "outputs": [],
   "source": [
    "params = {\n",
    "        'boosting_type':'gbdt',\n",
    "        'objective': 'regression',\n",
    "        'nthread': -1,\n",
    "        'verbose': 0,\n",
    "        'num_leaves': 31,\n",
    "        'learning_rate': 0.05,\n",
    "        'max_depth': -1,\n",
    "        'subsample': 0.8,\n",
    "        'subsample_freq': 1,\n",
    "        'colsample_bytree': 0.6,\n",
    "        'reg_aplha': 1,\n",
    "        'reg_lambda': 0.001,\n",
    "        'metric': 'rmse',\n",
    "        'min_split_gain': 0.5,\n",
    "        'min_child_weight': 1,\n",
    "        'min_child_samples': 10,\n",
    "        'scale_pos_weight':1     \n",
    "    }"
   ]
  },
  {
   "cell_type": "code",
   "execution_count": 0,
   "metadata": {
    "colab": {},
    "colab_type": "code",
    "id": "UIionip-xJi6"
   },
   "outputs": [],
   "source": [
    "train_set = lgbm.Dataset(X_train, Y_train, silent=True)"
   ]
  },
  {
   "cell_type": "code",
   "execution_count": 0,
   "metadata": {
    "colab": {},
    "colab_type": "code",
    "id": "7I6CUgLzH0Mb"
   },
   "outputs": [],
   "source": [
    "lightgbm = lgbm.train(params, train_set = train_set, num_boost_round=300)"
   ]
  },
  {
   "cell_type": "code",
   "execution_count": 0,
   "metadata": {
    "colab": {},
    "colab_type": "code",
    "id": "apmW10rzH0TP"
   },
   "outputs": [],
   "source": [
    "Y_val_pred = lightgbm.predict(X_val, num_iteration = lightgbm.best_iteration)"
   ]
  },
  {
   "cell_type": "code",
   "execution_count": 0,
   "metadata": {
    "colab": {
     "base_uri": "https://localhost:8080/",
     "height": 34
    },
    "colab_type": "code",
    "id": "5c2jX1SWH0Qs",
    "outputId": "3f4d60b5-294b-4a20-d524-e77a65df0438"
   },
   "outputs": [
    {
     "name": "stdout",
     "output_type": "stream",
     "text": [
      "RMSE on validation dataset =  3.705424233574646\n"
     ]
    }
   ],
   "source": [
    "print('RMSE on validation dataset = ', np.sqrt(mean_squared_error(Y_val, Y_val_pred)))"
   ]
  },
  {
   "cell_type": "markdown",
   "metadata": {
    "colab_type": "text",
    "id": "qqVomIk2YzsT"
   },
   "source": [
    "# 4. Xử lý file train.csv với 25.000.000 rows"
   ]
  },
  {
   "cell_type": "code",
   "execution_count": 0,
   "metadata": {
    "colab": {},
    "colab_type": "code",
    "id": "k8PBnpnC1buY"
   },
   "outputs": [],
   "source": [
    "# Set columns để giảm nhẹ dung lượng lưu trữ\n",
    "traintypes = {'fare_amount': 'float32',\n",
    "              'pickup_datetime': 'str', \n",
    "              'pickup_longitude': 'float32',\n",
    "              'pickup_latitude': 'float32',\n",
    "              'dropoff_longitude': 'float32',\n",
    "              'dropoff_latitude': 'float32',\n",
    "              'passenger_count': 'uint8'}\n",
    "\n",
    "cols = list(traintypes.keys())"
   ]
  },
  {
   "cell_type": "code",
   "execution_count": 0,
   "metadata": {
    "colab": {},
    "colab_type": "code",
    "id": "Yi0Jfbr71cHU"
   },
   "outputs": [],
   "source": [
    "%%time\n",
    "chunksize = 1000000 # preprocess mỗi 1M obs\n",
    "df_list = [] # list to hold the batch dataframe\n",
    "for df_chunk in tqdm(pd.read_csv(TRAIN_PATH, nrows = 25000000, usecols=cols, dtype=traintypes, chunksize=chunksize)):\n",
    "    # Neat trick from https://www.kaggle.com/btyuhas/bayesian-optimization-with-xgboost\n",
    "    df_chunk = df_chunk.drop(df_chunk.loc[df_chunk.isnull().any(1)].index, axis = 0)\n",
    "    df_chunk = df_chunk.drop(df_chunk.loc[df_chunk['fare_amount'] < 0].index, axis = 0)\n",
    "    df_chunk = df_chunk.drop(df_chunk.loc[df_chunk['passenger_count'] > 6].index, axis = 0)\n",
    "    df_chunk = df_chunk.drop(df_chunk.loc[(df_chunk['pickup_latitude'] < -90) | (df_chunk['pickup_latitude'] > 90)].index, axis = 0)\n",
    "    df_chunk = df_chunk.drop(df_chunk.loc[(df_chunk['dropoff_latitude'] < -90) | (df_chunk['dropoff_latitude'] > 90)].index, axis = 0)\n",
    "    df_chunk = df_chunk.drop(df_chunk.loc[(df_chunk['pickup_longitude'] < -180) | (df_chunk['pickup_longitude'] > 180)].index, axis = 0)\n",
    "    df_chunk = df_chunk.drop(df_chunk.loc[(df_chunk['dropoff_longitude'] < -180) | (df_chunk['dropoff_longitude'] > 180)].index, axis = 0)\n",
    "    df_chunk['pickup_datetime'] = pd.to_datetime(df_chunk['pickup_datetime'])\n",
    "    df_chunk = haversine_distance('pickup_latitude', 'pickup_longitude', 'dropoff_latitude', 'dropoff_longitude', df_chunk)\n",
    "    df_chunk['Year'] = df_chunk['pickup_datetime'].dt.year\n",
    "    df_chunk['Month'] = df_chunk['pickup_datetime'].dt.month\n",
    "    df_chunk['Date'] = df_chunk['pickup_datetime'].dt.day\n",
    "    df_chunk['Day of Week'] = df_chunk['pickup_datetime'].dt.dayofweek\n",
    "    df_chunk['Hour'] = df_chunk['pickup_datetime'].dt.hour \n",
    "    df_chunk = df_chunk.drop('pickup_datetime', axis = 1)\n",
    "    df_chunk = df_chunk.drop(df_chunk.loc[(df_chunk['H_Distance'] == 0) & (df_chunk['fare_amount'] < 2.5)].index, axis = 0)\n",
    "    \n",
    "    index1 = df_chunk.loc[(df_chunk['H_Distance'] == 0) & (df_chunk['fare_amount'] > 3.0)].index\n",
    "    df_chunk['H_Distance'].loc[index1] = df_chunk['fare_amount'].loc[index1].apply(lambda x: (x - 2.5)/1.56)\n",
    "    \n",
    "    index2 = df_chunk.loc[df_chunk['H_Distance'] > 300].index\n",
    "    df_chunk['H_Distance'].loc[index2] = df_chunk['fare_amount'].loc[index2].apply(lambda x: np.maximum(0, (x - 2.5)/1.56))\n",
    "    \n",
    "    index3 = df_chunk.loc[df_chunk['fare_amount'] == 0].index\n",
    "    df_chunk['fare_amount'].loc[index3] = df_chunk['H_Distance'].loc[index3].apply(lambda x: (x*1.56 + 2.5))\n",
    "    \n",
    "    df_chunk = df_chunk.drop(df_chunk.loc[(df_chunk['H_Distance'] < 10) & (df_chunk['fare_amount'] > 300)].index, axis = 0)\n",
    "\n",
    "    # Alternatively, append the chunk to list and merge all\n",
    "    df_list.append(df_chunk) "
   ]
  },
  {
   "cell_type": "code",
   "execution_count": 0,
   "metadata": {
    "colab": {},
    "colab_type": "code",
    "id": "FWeMKjTh1qp0"
   },
   "outputs": [],
   "source": [
    "# Merge all dataframes into one dataframe\n",
    "train_df = pd.concat(df_list)\n",
    "# Delete the dataframe list to release memory\n",
    "del df_list\n",
    "train_df.reset_index(drop = True, inplace=True)\n",
    "%%time\n",
    "# Save into feather format, about 1.5Gb. \n",
    "train_df.to_feather('drive/My Drive/nyc_taxi_train.feather')"
   ]
  },
  {
   "cell_type": "code",
   "execution_count": 0,
   "metadata": {
    "colab": {},
    "colab_type": "code",
    "id": "CaCJTWRS1rFT"
   },
   "outputs": [],
   "source": [
    "%%time\n",
    "# load the same dataframe next time directly, without reading the csv file again!\n",
    "train = pd.read_feather('drive/My Drive/nyc_taxi_train.feather')"
   ]
  },
  {
   "cell_type": "markdown",
   "metadata": {
    "colab_type": "text",
    "id": "ADICQHHBJ0eR"
   },
   "source": [
    "# 5. Train trên bộ data 25.000.000 rows"
   ]
  },
  {
   "cell_type": "markdown",
   "metadata": {
    "colab_type": "text",
    "id": "Yv-wBhw_W7SS"
   },
   "source": [
    "## 5.1. Data preprocessing"
   ]
  },
  {
   "cell_type": "code",
   "execution_count": 0,
   "metadata": {
    "colab": {},
    "colab_type": "code",
    "id": "Ie6aQMnsWfeC"
   },
   "outputs": [],
   "source": [
    "# load the same dataframe next time directly, without reading the csv file again!\n",
    "train = pd.read_feather('drive/My Drive/nyc_taxi_train.feather')"
   ]
  },
  {
   "cell_type": "code",
   "execution_count": 0,
   "metadata": {
    "colab": {},
    "colab_type": "code",
    "id": "mPQGfOWnCov5"
   },
   "outputs": [],
   "source": [
    "# Data preprocessing: MinMaxScaler đưa data về khoảng 0-1\n",
    "from sklearn.preprocessing import MinMaxScaler\n",
    "scaler = MinMaxScaler()"
   ]
  },
  {
   "cell_type": "code",
   "execution_count": 0,
   "metadata": {
    "colab": {},
    "colab_type": "code",
    "id": "LBxgEGi6GVvD"
   },
   "outputs": [],
   "source": [
    "# Traing dataset: 24M obs\n",
    "X_train = scaler.fit_transform(np.array(train.iloc[:24000000, 1:]))\n",
    "Y_train = np.array(train.iloc[:24000000, 0])"
   ]
  },
  {
   "cell_type": "code",
   "execution_count": 0,
   "metadata": {
    "colab": {},
    "colab_type": "code",
    "id": "0UEKVHipDGML"
   },
   "outputs": [],
   "source": [
    "# Validation dataset: 100.000 obs\n",
    "X_val = scaler.transform(np.array(train.iloc[24000000:24100000, 1:]))\n",
    "Y_val = np.array(train.iloc[24000000:24100000, 0])"
   ]
  },
  {
   "cell_type": "markdown",
   "metadata": {
    "colab_type": "text",
    "id": "BUjUeFGTW_Qb"
   },
   "source": [
    "## 5.2. Build Neural Network Model"
   ]
  },
  {
   "cell_type": "code",
   "execution_count": 0,
   "metadata": {
    "colab": {
     "base_uri": "https://localhost:8080/",
     "height": 34
    },
    "colab_type": "code",
    "id": "exMFSVWQKUJ9",
    "outputId": "8670a898-5773-45f2-cbd9-6025bfce0780"
   },
   "outputs": [
    {
     "name": "stderr",
     "output_type": "stream",
     "text": [
      "Using TensorFlow backend.\n"
     ]
    }
   ],
   "source": [
    "from keras.layers import Dense, BatchNormalization, Activation\n",
    "from keras.models import Sequential, load_model\n",
    "from keras.optimizers import Adam"
   ]
  },
  {
   "cell_type": "code",
   "execution_count": 0,
   "metadata": {
    "colab": {},
    "colab_type": "code",
    "id": "ue-IMnjNKUnk"
   },
   "outputs": [],
   "source": [
    "model = Sequential()\n",
    "model.add(Dense(256, activation='relu', input_dim=train.shape[1] - 1))\n",
    "model.add(BatchNormalization())\n",
    "model.add(Dense(128, activation='relu'))\n",
    "model.add(BatchNormalization())\n",
    "model.add(Dense(64, activation='relu'))\n",
    "model.add(BatchNormalization())\n",
    "model.add(Dense(32, activation='relu'))\n",
    "model.add(BatchNormalization())\n",
    "model.add(Dense(8, activation='relu'))\n",
    "model.add(BatchNormalization())\n",
    "model.add(Dense(1))"
   ]
  },
  {
   "cell_type": "code",
   "execution_count": 0,
   "metadata": {
    "colab": {},
    "colab_type": "code",
    "id": "2Bkv2AJwt06G"
   },
   "outputs": [],
   "source": [
    "#adam = Adam(lr=0.001)\n",
    "#model.compile(loss='mse', optimizer=adam, metrics=['mse'])"
   ]
  },
  {
   "cell_type": "code",
   "execution_count": 0,
   "metadata": {
    "colab": {
     "base_uri": "https://localhost:8080/",
     "height": 68
    },
    "colab_type": "code",
    "id": "5xOxIfc4KVbG",
    "outputId": "edc43d21-c5ed-4725-b17f-23bf173cc31c"
   },
   "outputs": [
    {
     "name": "stdout",
     "output_type": "stream",
     "text": [
      "Train on 24000000 samples, validate on 100000 samples\n",
      "Epoch 1/2\n",
      "23458880/24000000 [============================>.] - ETA: 5:23 - loss: 22.3730 - mean_squared_error: 22.3730"
     ]
    }
   ],
   "source": [
    "#H = model.fit(x=X_train, y=Y_train, batch_size=32, epochs=2, verbose=1, validation_data=(X_val, Y_val), shuffle=True)"
   ]
  },
  {
   "cell_type": "code",
   "execution_count": 0,
   "metadata": {
    "colab": {},
    "colab_type": "code",
    "id": "_veOhVgKdT9n"
   },
   "outputs": [],
   "source": [
    "#model.save('drive/My Drive/1epochs_2.hdf5')"
   ]
  },
  {
   "cell_type": "code",
   "execution_count": 0,
   "metadata": {
    "colab": {},
    "colab_type": "code",
    "id": "Qo3fGGH4XaHl"
   },
   "outputs": [],
   "source": [
    "model = load_model('drive/My Drive/1epochs_2.hdf5')"
   ]
  },
  {
   "cell_type": "markdown",
   "metadata": {
    "colab_type": "text",
    "id": "T3AQFRg0azR6"
   },
   "source": [
    "**Nhận xét:** Thử train model Neural Network trên bộ dataset 24M obs, chạy thử 1epochs có thể đạt được ~ 4$ RMSE nhưng tốn rất nhiều thời gian. Hy vọng rằng nếu có thể train lâu hơn sẽ cho kết quả perfomance tốt hơn."
   ]
  },
  {
   "cell_type": "markdown",
   "metadata": {
    "colab_type": "text",
    "id": "Fc5MDjvDX11m"
   },
   "source": [
    "# 6. Testing time and submission"
   ]
  },
  {
   "cell_type": "markdown",
   "metadata": {
    "colab_type": "text",
    "id": "erLkJdCWYLiv"
   },
   "source": [
    "## 6.1. Predicting"
   ]
  },
  {
   "cell_type": "code",
   "execution_count": 0,
   "metadata": {
    "colab": {},
    "colab_type": "code",
    "id": "HOBV6ssxAu85"
   },
   "outputs": [],
   "source": [
    "# Xử lý testing dataset\n",
    "test = pd.read_csv(TEST_PATH)\n",
    "test['pickup_datetime'] = pd.to_datetime(test['pickup_datetime'])\n",
    "test = haversine_distance('pickup_latitude', 'pickup_longitude', 'dropoff_latitude', 'dropoff_longitude', test)\n",
    "test['Year'] = test['pickup_datetime'].dt.year\n",
    "test['Month'] = test['pickup_datetime'].dt.month\n",
    "test['Date'] = test['pickup_datetime'].dt.day\n",
    "test['Day of Week'] = test['pickup_datetime'].dt.dayofweek\n",
    "test['Hour'] = test['pickup_datetime'].dt.hour \n",
    "test = test.drop(['key', 'pickup_datetime'], axis = 1)"
   ]
  },
  {
   "cell_type": "code",
   "execution_count": 0,
   "metadata": {
    "colab": {
     "base_uri": "https://localhost:8080/",
     "height": 258
    },
    "colab_type": "code",
    "id": "EjOvB5BaUuAi",
    "outputId": "b1bc38ac-034c-4311-a811-f1cb58f94608"
   },
   "outputs": [
    {
     "data": {
      "text/html": [
       "<div>\n",
       "<style scoped>\n",
       "    .dataframe tbody tr th:only-of-type {\n",
       "        vertical-align: middle;\n",
       "    }\n",
       "\n",
       "    .dataframe tbody tr th {\n",
       "        vertical-align: top;\n",
       "    }\n",
       "\n",
       "    .dataframe thead th {\n",
       "        text-align: right;\n",
       "    }\n",
       "</style>\n",
       "<table border=\"1\" class=\"dataframe\">\n",
       "  <thead>\n",
       "    <tr style=\"text-align: right;\">\n",
       "      <th></th>\n",
       "      <th>pickup_longitude</th>\n",
       "      <th>pickup_latitude</th>\n",
       "      <th>dropoff_longitude</th>\n",
       "      <th>dropoff_latitude</th>\n",
       "      <th>passenger_count</th>\n",
       "      <th>H_Distance</th>\n",
       "      <th>Year</th>\n",
       "      <th>Month</th>\n",
       "      <th>Date</th>\n",
       "      <th>Day of Week</th>\n",
       "      <th>Hour</th>\n",
       "    </tr>\n",
       "  </thead>\n",
       "  <tbody>\n",
       "    <tr>\n",
       "      <th>0</th>\n",
       "      <td>-73.973320</td>\n",
       "      <td>40.763805</td>\n",
       "      <td>-73.981430</td>\n",
       "      <td>40.743835</td>\n",
       "      <td>1</td>\n",
       "      <td>2.323260</td>\n",
       "      <td>2015</td>\n",
       "      <td>1</td>\n",
       "      <td>27</td>\n",
       "      <td>1</td>\n",
       "      <td>13</td>\n",
       "    </tr>\n",
       "    <tr>\n",
       "      <th>1</th>\n",
       "      <td>-73.986862</td>\n",
       "      <td>40.719383</td>\n",
       "      <td>-73.998886</td>\n",
       "      <td>40.739201</td>\n",
       "      <td>1</td>\n",
       "      <td>2.425353</td>\n",
       "      <td>2015</td>\n",
       "      <td>1</td>\n",
       "      <td>27</td>\n",
       "      <td>1</td>\n",
       "      <td>13</td>\n",
       "    </tr>\n",
       "    <tr>\n",
       "      <th>2</th>\n",
       "      <td>-73.982524</td>\n",
       "      <td>40.751260</td>\n",
       "      <td>-73.979654</td>\n",
       "      <td>40.746139</td>\n",
       "      <td>1</td>\n",
       "      <td>0.618628</td>\n",
       "      <td>2011</td>\n",
       "      <td>10</td>\n",
       "      <td>8</td>\n",
       "      <td>5</td>\n",
       "      <td>11</td>\n",
       "    </tr>\n",
       "    <tr>\n",
       "      <th>3</th>\n",
       "      <td>-73.981160</td>\n",
       "      <td>40.767807</td>\n",
       "      <td>-73.990448</td>\n",
       "      <td>40.751635</td>\n",
       "      <td>1</td>\n",
       "      <td>1.961033</td>\n",
       "      <td>2012</td>\n",
       "      <td>12</td>\n",
       "      <td>1</td>\n",
       "      <td>5</td>\n",
       "      <td>21</td>\n",
       "    </tr>\n",
       "    <tr>\n",
       "      <th>4</th>\n",
       "      <td>-73.966046</td>\n",
       "      <td>40.789775</td>\n",
       "      <td>-73.988565</td>\n",
       "      <td>40.744427</td>\n",
       "      <td>1</td>\n",
       "      <td>5.387301</td>\n",
       "      <td>2012</td>\n",
       "      <td>12</td>\n",
       "      <td>1</td>\n",
       "      <td>5</td>\n",
       "      <td>21</td>\n",
       "    </tr>\n",
       "  </tbody>\n",
       "</table>\n",
       "</div>"
      ],
      "text/plain": [
       "   pickup_longitude  pickup_latitude  ...   Day of Week  Hour\n",
       "0        -73.973320        40.763805  ...             1    13\n",
       "1        -73.986862        40.719383  ...             1    13\n",
       "2        -73.982524        40.751260  ...             5    11\n",
       "3        -73.981160        40.767807  ...             5    21\n",
       "4        -73.966046        40.789775  ...             5    21\n",
       "\n",
       "[5 rows x 11 columns]"
      ]
     },
     "execution_count": 119,
     "metadata": {
      "tags": []
     },
     "output_type": "execute_result"
    }
   ],
   "source": [
    "test.head()"
   ]
  },
  {
   "cell_type": "code",
   "execution_count": 0,
   "metadata": {
    "colab": {},
    "colab_type": "code",
    "id": "_vENxOdHKVLK"
   },
   "outputs": [],
   "source": [
    "# Data preprocessing\n",
    "X_test = scaler.transform(np.array(test))"
   ]
  },
  {
   "cell_type": "code",
   "execution_count": 0,
   "metadata": {
    "colab": {},
    "colab_type": "code",
    "id": "de9XaH_uW_Q2"
   },
   "outputs": [],
   "source": [
    "# Predicting: model neural network\n",
    "Y_test = model.predict(X_test)"
   ]
  },
  {
   "cell_type": "code",
   "execution_count": 0,
   "metadata": {
    "colab": {
     "base_uri": "https://localhost:8080/",
     "height": 34
    },
    "colab_type": "code",
    "id": "jY-AGAGmW_3u",
    "outputId": "fd27c094-39b6-4352-ab49-8ae8f5ab14de"
   },
   "outputs": [
    {
     "data": {
      "text/plain": [
       "(9914, 1)"
      ]
     },
     "execution_count": 36,
     "metadata": {
      "tags": []
     },
     "output_type": "execute_result"
    }
   ],
   "source": [
    "Y_test.shape"
   ]
  },
  {
   "cell_type": "markdown",
   "metadata": {
    "colab_type": "text",
    "id": "RieCBz1xYRXv"
   },
   "source": [
    "## 6.2. Submitting"
   ]
  },
  {
   "cell_type": "code",
   "execution_count": 0,
   "metadata": {
    "colab": {},
    "colab_type": "code",
    "id": "ew-SykZs9p8j"
   },
   "outputs": [],
   "source": [
    "def submission(model, PATH):\n",
    "  submit = pd.read_csv(TEST_PATH)\n",
    "  submit['fare_amount'] = model.predict(X_test)\n",
    "  submit = submit.drop(submit.iloc[:, 1:7].columns, axis = 1)\n",
    "  submit.to_csv(PATH, index = False)"
   ]
  },
  {
   "cell_type": "code",
   "execution_count": 0,
   "metadata": {
    "colab": {},
    "colab_type": "code",
    "id": "vz7ArGV49p5C"
   },
   "outputs": [],
   "source": [
    "# Linear Regression model\n",
    "submission(LiR, 'drive/My Drive/LiR.csv')"
   ]
  },
  {
   "cell_type": "code",
   "execution_count": 0,
   "metadata": {
    "colab": {},
    "colab_type": "code",
    "id": "1nrmc3JK9p17"
   },
   "outputs": [],
   "source": [
    "# Ridge Regression model\n",
    "submission(ridge_model, 'drive/My Drive/Ridge.csv')"
   ]
  },
  {
   "cell_type": "code",
   "execution_count": 0,
   "metadata": {
    "colab": {},
    "colab_type": "code",
    "id": "SIJAgL0M9px7"
   },
   "outputs": [],
   "source": [
    "# Lasso Regression model\n",
    "submission(lasso_model, 'drive/My Drive/Lasso.csv')"
   ]
  },
  {
   "cell_type": "code",
   "execution_count": 0,
   "metadata": {
    "colab": {},
    "colab_type": "code",
    "id": "QC_b7lpuOJPB"
   },
   "outputs": [],
   "source": [
    "# Decision Tree model\n",
    "submission(tree, 'drive/My Drive/tree.csv')"
   ]
  },
  {
   "cell_type": "code",
   "execution_count": 0,
   "metadata": {
    "colab": {},
    "colab_type": "code",
    "id": "N_Ss5fs82Iyy"
   },
   "outputs": [],
   "source": [
    "# Random Forest model\n",
    "submission(random_forest, 'drive/My Drive/random_forest.csv')"
   ]
  },
  {
   "cell_type": "code",
   "execution_count": 0,
   "metadata": {
    "colab": {},
    "colab_type": "code",
    "id": "i3CRpXwn2I58"
   },
   "outputs": [],
   "source": [
    "# XGBoost model\n",
    "submit = pd.read_csv(TEST_PATH)\n",
    "submit['fare_amount'] = xb.predict(dtest)\n",
    "submit = submit.drop(submit.iloc[:, 1:7].columns, axis = 1)\n",
    "submit.to_csv('drive/My Drive/xgboost.csv', index = False)"
   ]
  },
  {
   "cell_type": "code",
   "execution_count": 0,
   "metadata": {
    "colab": {},
    "colab_type": "code",
    "id": "UJNK4Wxo2IwG"
   },
   "outputs": [],
   "source": [
    "# LightGBM model\n",
    "submit = pd.read_csv(TEST_PATH)\n",
    "submit['fare_amount'] = lightgbm.predict(X_test, num_iteration = lightgbm.best_iteration)\n",
    "submit = submit.drop(submit.iloc[:, 1:7].columns, axis = 1)\n",
    "submit.to_csv('drive/My Drive/lightgbm.csv', index = False)"
   ]
  },
  {
   "cell_type": "markdown",
   "metadata": {
    "colab_type": "text",
    "id": "VHbnALZUb4_C"
   },
   "source": [
    "**Nhận xét:** Khi submit project trên kaggle.com, model Random Forest, XGBoost và LightGBM cho kết quả tốt nhất với ~ 3.3 RMSE trên tập test. Nếu có thể tuning hyperparameters kỹ càng hơn và train trên bộ dataset lớn hơn thì hy vọng rằng có thể cho kết quả cao hơn nữa."
   ]
  }
 ],
 "metadata": {
  "accelerator": "GPU",
  "colab": {
   "collapsed_sections": [],
   "name": "NYC_0.ipynb",
   "provenance": [],
   "toc_visible": true,
   "version": "0.3.2"
  },
  "kernelspec": {
   "display_name": "THANGHOANG",
   "language": "python",
   "name": "thanghoang"
  },
  "language_info": {
   "codemirror_mode": {
    "name": "ipython",
    "version": 3
   },
   "file_extension": ".py",
   "mimetype": "text/x-python",
   "name": "python",
   "nbconvert_exporter": "python",
   "pygments_lexer": "ipython3",
   "version": "3.6.7"
  }
 },
 "nbformat": 4,
 "nbformat_minor": 1
}
